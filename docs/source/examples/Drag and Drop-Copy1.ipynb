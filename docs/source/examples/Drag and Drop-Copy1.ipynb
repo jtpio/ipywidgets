{
 "cells": [
  {
   "cell_type": "markdown",
   "metadata": {},
   "source": [
    "## Draggable Label"
   ]
  },
  {
   "cell_type": "markdown",
   "metadata": {},
   "source": [
    "`DraggableLabel` is a label that can be dragged and dropped to other fields."
   ]
  },
  {
   "cell_type": "code",
   "execution_count": 22,
   "metadata": {},
   "outputs": [],
   "source": [
    "from ipywidgets import Label, DraggableBox, DropBox, Textarea, VBox"
   ]
  },
  {
   "cell_type": "code",
   "execution_count": 23,
   "metadata": {},
   "outputs": [],
   "source": [
    "def set_drag_data(box):\n",
    "    box.drag_data['text/plain'] = box.children[0].value\n",
    "\n",
    "def DraggableLabel(value, draggable=True):\n",
    "    box = DraggableBox(Label(value))\n",
    "    box.draggable = draggable\n",
    "    return box"
   ]
  },
  {
   "cell_type": "code",
   "execution_count": 24,
   "metadata": {},
   "outputs": [
    {
     "data": {
      "application/vnd.jupyter.widget-view+json": {
       "model_id": "77b8adcb7ae34e55bff8591f534d1596",
       "version_major": 2,
       "version_minor": 0
      },
      "text/plain": [
       "DraggableBox(child=Label(value='Hello Drag'))"
      ]
     },
     "execution_count": 24,
     "metadata": {},
     "output_type": "execute_result"
    }
   ],
   "source": [
    "DraggableLabel(\"Hello Drag\")"
   ]
  },
  {
   "cell_type": "markdown",
   "metadata": {},
   "source": [
    "You can drag this label anywhere (could be your shell etc.), but also to a text area:"
   ]
  },
  {
   "cell_type": "code",
   "execution_count": 25,
   "metadata": {},
   "outputs": [
    {
     "data": {
      "application/vnd.jupyter.widget-view+json": {
       "model_id": "02c3f49a8c314ad2a5fdecd07e404d14",
       "version_major": 2,
       "version_minor": 0
      },
      "text/plain": [
       "Textarea(value='')"
      ]
     },
     "execution_count": 25,
     "metadata": {},
     "output_type": "execute_result"
    }
   ],
   "source": [
    "Textarea()"
   ]
  },
  {
   "cell_type": "markdown",
   "metadata": {},
   "source": [
    "## `on_drop` handler"
   ]
  },
  {
   "cell_type": "markdown",
   "metadata": {},
   "source": [
    "`DraggableLabel` can also become the drop zone (you can drop other stuff on it), if you implement the `on_drop` handler."
   ]
  },
  {
   "cell_type": "code",
   "execution_count": 26,
   "metadata": {},
   "outputs": [
    {
     "data": {
      "application/vnd.jupyter.widget-view+json": {
       "model_id": "4ae6b734261641f99a78628ace880569",
       "version_major": 2,
       "version_minor": 0
      },
      "text/plain": [
       "DraggableBox(child=Label(value='Drag me'))"
      ]
     },
     "execution_count": 26,
     "metadata": {},
     "output_type": "execute_result"
    }
   ],
   "source": [
    "l1 = DraggableLabel(\"Drag me\")\n",
    "l1"
   ]
  },
  {
   "cell_type": "markdown",
   "metadata": {},
   "source": [
    "Now, drag this label on the label below."
   ]
  },
  {
   "cell_type": "code",
   "execution_count": 27,
   "metadata": {},
   "outputs": [
    {
     "data": {
      "application/vnd.jupyter.widget-view+json": {
       "model_id": "4239a46d8e764b2b98615cac9cb7abc7",
       "version_major": 2,
       "version_minor": 0
      },
      "text/plain": [
       "DropBox(child=Label(value='Drop on me'))"
      ]
     },
     "execution_count": 27,
     "metadata": {},
     "output_type": "execute_result"
    }
   ],
   "source": [
    "l2 = DropBox(Label(\"Drop on me\"))\n",
    "def on_drop_handler(widget, data):\n",
    "    \"\"\"\"Arguments:\n",
    "    \n",
    "    widget : widget class\n",
    "        widget on which something was dropped\n",
    "        \n",
    "    data : dict\n",
    "        extra data sent from the dragged widget\"\"\"\n",
    "    print(data)\n",
    "    text = data['text/plain']\n",
    "    widget.child.value = \"congrats, you dropped '{}'\".format(text)\n",
    "\n",
    "l2.on_drop(on_drop_handler)\n",
    "l2"
   ]
  },
  {
   "cell_type": "markdown",
   "metadata": {},
   "source": [
    "**Note** : You can also drop other stuff (like files, images, links, selections, etc). Try it out!"
   ]
  },
  {
   "cell_type": "markdown",
   "metadata": {},
   "source": [
    "## Changing any widget into a drop zone with arbitrary drop operations"
   ]
  },
  {
   "cell_type": "markdown",
   "metadata": {},
   "source": [
    "If you have more specific needs for the drop behaviour you can also use DropBox widgets, which implements `on_drop` handlers."
   ]
  },
  {
   "cell_type": "markdown",
   "metadata": {},
   "source": [
    "This DropBox will replace elements with text of the dropped element (works also for stuff which is not widget):"
   ]
  },
  {
   "cell_type": "code",
   "execution_count": 28,
   "metadata": {},
   "outputs": [
    {
     "data": {
      "application/vnd.jupyter.widget-view+json": {
       "model_id": "149fac36fff14c5a9d9667fb5a598d03",
       "version_major": 2,
       "version_minor": 0
      },
      "text/plain": [
       "DraggableBox(child=Label(value='Drag me'))"
      ]
     },
     "execution_count": 28,
     "metadata": {},
     "output_type": "execute_result"
    }
   ],
   "source": [
    "from ipywidgets import DropBox, Layout, Button\n",
    "\n",
    "label = DraggableLabel(\"Drag me\", draggable=True)\n",
    "label"
   ]
  },
  {
   "cell_type": "markdown",
   "metadata": {},
   "source": [
    "or **Select and drag me!**"
   ]
  },
  {
   "cell_type": "code",
   "execution_count": 29,
   "metadata": {},
   "outputs": [
    {
     "data": {
      "application/vnd.jupyter.widget-view+json": {
       "model_id": "dddc110d648f4bb0830cf0d79313e950",
       "version_major": 2,
       "version_minor": 0
      },
      "text/plain": [
       "DropBox(child=Label(value='Drop here!'), layout=Layout(height='100px', width='200px'))"
      ]
     },
     "execution_count": 29,
     "metadata": {},
     "output_type": "execute_result"
    }
   ],
   "source": [
    "box = DropBox(Label(\"Drop here!\"),\n",
    "              layout=Layout(width='200px', height='100px'))\n",
    "def on_drop(widget, data):\n",
    "    text = data['text/plain']\n",
    "    widget.child = Button(description=text.upper())\n",
    "\n",
    "box.on_drop(on_drop)\n",
    "box"
   ]
  },
  {
   "cell_type": "markdown",
   "metadata": {},
   "source": [
    "## Adding widgets to container with a handler"
   ]
  },
  {
   "cell_type": "markdown",
   "metadata": {},
   "source": [
    "You can also reproduce the Box example (adding elements to Box container) using `DropBox` with a custom handler:"
   ]
  },
  {
   "cell_type": "code",
   "execution_count": 30,
   "metadata": {},
   "outputs": [
    {
     "data": {
      "application/vnd.jupyter.widget-view+json": {
       "model_id": "11631f7c4b7241bc9e8869660d31452b",
       "version_major": 2,
       "version_minor": 0
      },
      "text/plain": [
       "DraggableBox(child=Label(value='Drag me'))"
      ]
     },
     "execution_count": 30,
     "metadata": {},
     "output_type": "execute_result"
    }
   ],
   "source": [
    "from ipywidgets import DropBox, Layout, Label\n",
    "\n",
    "label = DraggableLabel(\"Drag me\", draggable=True)\n",
    "label"
   ]
  },
  {
   "cell_type": "code",
   "execution_count": 31,
   "metadata": {},
   "outputs": [
    {
     "data": {
      "application/vnd.jupyter.widget-view+json": {
       "model_id": "f34aa5b3ba22424d8a4a76997e11ae7b",
       "version_major": 2,
       "version_minor": 0
      },
      "text/plain": [
       "DropBox(child=VBox(children=(Label(value='Drop here'),)), layout=Layout(height='100px', width='200px'))"
      ]
     },
     "execution_count": 31,
     "metadata": {},
     "output_type": "execute_result"
    }
   ],
   "source": [
    "box = DropBox(VBox([Label('Drop here')]), \n",
    "              layout=Layout(width='200px', height='100px'))\n",
    "\n",
    "def on_drop(widget, data):\n",
    "    source = data['widget']\n",
    "    widget.child.children += (source, )\n",
    "\n",
    "box.on_drop(on_drop)\n",
    "box"
   ]
  },
  {
   "cell_type": "markdown",
   "metadata": {},
   "source": [
    "**Explanation**: Label widget sets data on the drop event of type `application/x-widget` that contains the widget id of the dragged widget."
   ]
  },
  {
   "cell_type": "markdown",
   "metadata": {},
   "source": [
    "## Setting custom data on the drop event"
   ]
  },
  {
   "cell_type": "markdown",
   "metadata": {},
   "source": [
    "You can also set custom data on `DraggableLabel` that can be retrieved and used in `on_drop` event."
   ]
  },
  {
   "cell_type": "code",
   "execution_count": 32,
   "metadata": {
    "scrolled": true
   },
   "outputs": [
    {
     "data": {
      "application/vnd.jupyter.widget-view+json": {
       "model_id": "e13ad1ce4299443c88dda411424dc323",
       "version_major": 2,
       "version_minor": 0
      },
      "text/plain": [
       "DraggableBox(child=Label(value='Drag me'), drag_data={'application/custom-data': 'Custom data'})"
      ]
     },
     "execution_count": 32,
     "metadata": {},
     "output_type": "execute_result"
    }
   ],
   "source": [
    "l = DraggableLabel(\"Drag me\", draggable=True)\n",
    "l.drag_data = {'application/custom-data' : 'Custom data'}\n",
    "l"
   ]
  },
  {
   "cell_type": "code",
   "execution_count": 33,
   "metadata": {},
   "outputs": [
    {
     "data": {
      "application/vnd.jupyter.widget-view+json": {
       "model_id": "61d7c8bb4fe348e798c7b50e874abd23",
       "version_major": 2,
       "version_minor": 0
      },
      "text/plain": [
       "DropBox(child=Label(value='Drop here'))"
      ]
     },
     "execution_count": 33,
     "metadata": {},
     "output_type": "execute_result"
    }
   ],
   "source": [
    "l2 = DropBox(Label(\"Drop here\"))\n",
    "\n",
    "def on_drop_handler(widget, data):\n",
    "    \"\"\"\"Arguments:\n",
    "    \n",
    "    widget : widget class\n",
    "        widget on which something was dropped\n",
    "        \n",
    "    data : dict\n",
    "        extra data sent from the dragged widget\"\"\"\n",
    "    \n",
    "    text = data['text/plain']\n",
    "    widget_id = data['widget'].model_id\n",
    "    custom_data = data['application/custom-data']\n",
    "    widget.child.value = (\"you dropped widget ID '{}...' \"\n",
    "                    \"with text '{}' and custom data '{}'\"\n",
    "                   ).format(widget_id[:5], text,  custom_data)\n",
    "\n",
    "l2.on_drop(on_drop_handler)\n",
    "l2"
   ]
  },
  {
   "cell_type": "markdown",
   "metadata": {},
   "source": [
    "## Making any widget draggable"
   ]
  },
  {
   "cell_type": "markdown",
   "metadata": {},
   "source": [
    "`DraggableBox` can be used to wrap any widget so that it can be dragged and dropped."
   ]
  },
  {
   "cell_type": "code",
   "execution_count": 34,
   "metadata": {},
   "outputs": [],
   "source": [
    "from ipywidgets import DraggableBox, Button, VBox, Layout, IntSlider, Label"
   ]
  },
  {
   "cell_type": "code",
   "execution_count": 35,
   "metadata": {},
   "outputs": [
    {
     "data": {
      "application/vnd.jupyter.widget-view+json": {
       "model_id": "8418d459598944668c735ed554829d51",
       "version_major": 2,
       "version_minor": 0
      },
      "text/plain": [
       "DraggableBox(child=IntSlider(value=0, description='Drag me', layout=Layout(width='250px')))"
      ]
     },
     "execution_count": 35,
     "metadata": {},
     "output_type": "execute_result"
    }
   ],
   "source": [
    "slider = IntSlider(layout=Layout(width='250px'), description='Drag me')\n",
    "box = DraggableBox(slider, draggable=True)\n",
    "box"
   ]
  },
  {
   "cell_type": "code",
   "execution_count": 36,
   "metadata": {},
   "outputs": [
    {
     "data": {
      "text/plain": [
       "{}"
      ]
     },
     "execution_count": 36,
     "metadata": {},
     "output_type": "execute_result"
    }
   ],
   "source": [
    "box.drag_data"
   ]
  },
  {
   "cell_type": "code",
   "execution_count": 37,
   "metadata": {},
   "outputs": [],
   "source": [
    "def on_drop(*args):\n",
    "    print(*args)\n",
    "\n",
    "def attach_to_box(box, widget):\n",
    "    box.children += (widget, )"
   ]
  },
  {
   "cell_type": "code",
   "execution_count": 38,
   "metadata": {},
   "outputs": [
    {
     "data": {
      "application/vnd.jupyter.widget-view+json": {
       "model_id": "def9da24a8f14aa7a4b3f56356dfb005",
       "version_major": 2,
       "version_minor": 0
      },
      "text/plain": [
       "DropBox(child=VBox(children=(Label(value='Drop sliders below'),), layout=Layout(height='150px', width='350px')…"
      ]
     },
     "execution_count": 38,
     "metadata": {},
     "output_type": "execute_result"
    }
   ],
   "source": [
    "vdropbox = DropBox(VBox([Label('Drop sliders below')], layout=Layout(width='350px', height='150px')))\n",
    "# vdropbox.on_drop(lambda *args: attach_to_box(vdropbox.child, args[1]['widget']))\n",
    "vdropbox.on_drop(on_drop)\n",
    "vdropbox"
   ]
  },
  {
   "cell_type": "markdown",
   "metadata": {},
   "source": [
    "## `on_dragenter` and `on_dragleave` handlers"
   ]
  },
  {
   "cell_type": "code",
   "execution_count": 50,
   "metadata": {},
   "outputs": [
    {
     "data": {
      "application/vnd.jupyter.widget-view+json": {
       "model_id": "dca0de8a19244d1cb05026b0da6df0c4",
       "version_major": 2,
       "version_minor": 0
      },
      "text/plain": [
       "DraggableBox(child=Button(button_style='info', description='Drag me', style=ButtonStyle()))"
      ]
     },
     "execution_count": 50,
     "metadata": {},
     "output_type": "execute_result"
    }
   ],
   "source": [
    "button = Button(description=\"Drag me\", button_style='info')\n",
    "DraggableBox(button, draggable=True)"
   ]
  },
  {
   "cell_type": "code",
   "execution_count": 51,
   "metadata": {},
   "outputs": [
    {
     "data": {
      "application/vnd.jupyter.widget-view+json": {
       "model_id": "42e54308ea2b4e51b2d04e5f315d46ae",
       "version_major": 2,
       "version_minor": 0
      },
      "text/plain": [
       "DraggableBox(child=Button(button_style='warning', description='Drag me', style=ButtonStyle()))"
      ]
     },
     "execution_count": 51,
     "metadata": {},
     "output_type": "execute_result"
    }
   ],
   "source": [
    "button2 = Button(description=\"Drag me\", button_style='warning')\n",
    "DraggableBox(button2, draggable=True)"
   ]
  },
  {
   "cell_type": "markdown",
   "metadata": {},
   "source": [
    "Now, drag this button on the label below."
   ]
  },
  {
   "cell_type": "code",
   "execution_count": 53,
   "metadata": {},
   "outputs": [
    {
     "data": {
      "application/vnd.jupyter.widget-view+json": {
       "model_id": "fdccb407b7254520992d25f4420b7852",
       "version_major": 2,
       "version_minor": 0
      },
      "text/plain": [
       "DropBox(child=Button(button_style='danger', description='Hover on me', style=ButtonStyle()))"
      ]
     },
     "execution_count": 53,
     "metadata": {},
     "output_type": "execute_result"
    }
   ],
   "source": [
    "label = \"Hover on me\"\n",
    "l4 = DropBox(Button(description=label, button_style=\"danger\"))\n",
    "\n",
    "def on_drop(*args):\n",
    "    l4.child.button_style = \"danger\"\n",
    "    l4.child.description = \"dropped\"\n",
    "\n",
    "def on_dragenter_handler(widget):\n",
    "    l4.child.button_style = \"success\"\n",
    "\n",
    "def on_dragleave_handler(widget):\n",
    "    l4.child.button_style = \"danger\"\n",
    "    \n",
    "l4.on_drop(on_drop)\n",
    "l4.on_dragenter(on_dragenter_handler)\n",
    "l4.on_dragleave(on_dragleave_handler)\n",
    "l4"
   ]
  },
  {
   "cell_type": "markdown",
   "metadata": {},
   "source": [
    "## Draggable data columns"
   ]
  },
  {
   "cell_type": "markdown",
   "metadata": {},
   "source": [
    "This implements a more complex example.\n",
    "\n",
    "**Note**: You need to have bqplot installed for this example to work."
   ]
  },
  {
   "cell_type": "code",
   "execution_count": null,
   "metadata": {},
   "outputs": [],
   "source": [
    "import bqplot.pyplot as plt\n",
    "from ipywidgets import Label, GridspecLayout, DropBox, Layout\n",
    "import json"
   ]
  },
  {
   "cell_type": "code",
   "execution_count": null,
   "metadata": {},
   "outputs": [],
   "source": [
    "def create_table(data):\n",
    "    n_cols = len(data)\n",
    "    n_rows = max(len(column) for column in data.values())\n",
    "    grid = GridspecLayout(n_rows+1, n_cols)\n",
    "    columnames = list(data.keys())\n",
    "    for i in range(n_cols):\n",
    "        column = columnames[i]\n",
    "        data_json = json.dumps(data[column])\n",
    "        grid[0, i] = DraggableLabel(columnames[i], draggable=True)\n",
    "        grid[0, i].draggable = True\n",
    "        grid[0, i].drag_data = {'data/app' : data_json}\n",
    "        for j in range(n_rows):\n",
    "            grid[j+1, i] = DraggableLabel(str(data[column][j]), draggable=True)\n",
    "            grid[j+1, i].drag_data = {'data/app' : data_json}\n",
    "    return grid"
   ]
  },
  {
   "cell_type": "code",
   "execution_count": null,
   "metadata": {},
   "outputs": [],
   "source": [
    "box = DropBox(Label(\"Drag data from the table and drop it here.\"), layout=Layout(height='500px', width='800px'))\n",
    "def box_ondrop(widget, data):\n",
    "    fig = plt.figure()\n",
    "    y = json.loads(data['data/app'])\n",
    "    plt.plot(y)\n",
    "    widget.child = fig\n",
    "box.on_drop(box_ondrop)"
   ]
  },
  {
   "cell_type": "code",
   "execution_count": null,
   "metadata": {},
   "outputs": [],
   "source": [
    "plot_data = {\n",
    "    'col1': [ 4, 2,  1],\n",
    "    'col2': [ 1, 3,  4],\n",
    "    'col3': [-1, 2, -3]\n",
    "}\n",
    "create_table(plot_data)"
   ]
  },
  {
   "cell_type": "markdown",
   "metadata": {},
   "source": [
    "You can drag the data by the labels or values (the whole column will be dragged)."
   ]
  },
  {
   "cell_type": "code",
   "execution_count": null,
   "metadata": {},
   "outputs": [],
   "source": [
    "box"
   ]
  },
  {
   "cell_type": "markdown",
   "metadata": {},
   "source": [
    "## Plot builder"
   ]
  },
  {
   "cell_type": "markdown",
   "metadata": {},
   "source": [
    "Here is another example allowing to build plots from a list of labels."
   ]
  },
  {
   "cell_type": "code",
   "execution_count": 17,
   "metadata": {},
   "outputs": [
    {
     "ename": "ModuleNotFoundError",
     "evalue": "No module named 'bqplot'",
     "output_type": "error",
     "traceback": [
      "\u001b[0;31m---------------------------------------------------------------------------\u001b[0m",
      "\u001b[0;31mModuleNotFoundError\u001b[0m                       Traceback (most recent call last)",
      "\u001b[0;32m<ipython-input-17-38f8cb3cd05f>\u001b[0m in \u001b[0;36m<module>\u001b[0;34m\u001b[0m\n\u001b[1;32m      1\u001b[0m \u001b[0;32mfrom\u001b[0m \u001b[0mipywidgets\u001b[0m \u001b[0;32mimport\u001b[0m \u001b[0mSelectMultiple\u001b[0m\u001b[0;34m,\u001b[0m \u001b[0mLayout\u001b[0m\u001b[0;34m,\u001b[0m \u001b[0mDraggableBox\u001b[0m\u001b[0;34m,\u001b[0m \u001b[0mDropBox\u001b[0m\u001b[0;34m,\u001b[0m \u001b[0mHBox\u001b[0m\u001b[0;34m\u001b[0m\u001b[0;34m\u001b[0m\u001b[0m\n\u001b[0;32m----> 2\u001b[0;31m \u001b[0;32mimport\u001b[0m \u001b[0mbqplot\u001b[0m \u001b[0;32mas\u001b[0m \u001b[0mbq\u001b[0m\u001b[0;34m\u001b[0m\u001b[0;34m\u001b[0m\u001b[0m\n\u001b[0m\u001b[1;32m      3\u001b[0m \u001b[0;34m\u001b[0m\u001b[0m\n\u001b[1;32m      4\u001b[0m select_list = SelectMultiple(\n\u001b[1;32m      5\u001b[0m     \u001b[0moptions\u001b[0m\u001b[0;34m=\u001b[0m\u001b[0;34m[\u001b[0m\u001b[0;34m'Apples'\u001b[0m\u001b[0;34m,\u001b[0m \u001b[0;34m'Oranges'\u001b[0m\u001b[0;34m,\u001b[0m \u001b[0;34m'Pears'\u001b[0m\u001b[0;34m]\u001b[0m\u001b[0;34m,\u001b[0m\u001b[0;34m\u001b[0m\u001b[0;34m\u001b[0m\u001b[0m\n",
      "\u001b[0;31mModuleNotFoundError\u001b[0m: No module named 'bqplot'"
     ]
    }
   ],
   "source": [
    "from ipywidgets import SelectMultiple, Layout, DraggableBox, DropBox, HBox\n",
    "import bqplot as bq\n",
    "\n",
    "select_list = SelectMultiple(\n",
    "    options=['Apples', 'Oranges', 'Pears'],\n",
    "    value=['Oranges'],\n",
    "    description='Fruits',\n",
    "    disabled=False\n",
    ")\n",
    "select_box = DraggableBox(select_list, draggable=True)\n",
    "\n",
    "fruits = {'Apples' : 5,\n",
    "          'Oranges' : 1,\n",
    "          'Pears': 3}\n",
    "\n",
    "\n",
    "fig = bq.Figure(marks=[], fig_margin = dict(left=50, right=0, top=0, bottom=70))\n",
    "fig.layout.height='300px'\n",
    "fig.layout.width='300px'\n",
    "fig_box = DropBox(fig)\n",
    "\n",
    "fig2 = bq.Figure(marks=[], fig_margin = dict(left=50, right=0, top=0, bottom=70))\n",
    "fig2.layout.height='300px'\n",
    "fig2.layout.width='300px'\n",
    "fig2_box = DropBox(fig2)\n",
    "\n",
    "def on_fig_drop(widget, data):\n",
    "    \n",
    "    # get the figure widget\n",
    "    fig = widget.child\n",
    "    #get the selection widget\n",
    "    selection_widget = data['widget'].child\n",
    "    \n",
    "    # get the selected fruits and prices\n",
    "    selected = selection_widget.value\n",
    "    prices = [fruits[f] for f in selected]\n",
    "    \n",
    "    sc_x = bq.OrdinalScale()\n",
    "    sc_y = bq.LinearScale()\n",
    "\n",
    "    ax_x = bq.Axis(scale=sc_x)\n",
    "    ax_y = bq.Axis(scale=sc_y, orientation='vertical')\n",
    "    bars = bq.Bars(x=selected, y=prices, scales={'x' : sc_x, 'y' : sc_y })\n",
    "    fig.axes = [ax_x, ax_y]\n",
    "    fig.marks = [bars]\n",
    "\n",
    "fig_box.on_drop(on_fig_drop)\n",
    "fig2_box.on_drop(on_fig_drop)"
   ]
  },
  {
   "cell_type": "markdown",
   "metadata": {},
   "source": [
    "Select and drag fruits from the list to the boxes on the right. It's better to drag the selection using the \"Fruits\" label, due to a smalll glitch in the selection widget."
   ]
  },
  {
   "cell_type": "code",
   "execution_count": null,
   "metadata": {},
   "outputs": [],
   "source": [
    "HBox([select_box,\n",
    "      fig_box,\n",
    "      fig2_box])"
   ]
  },
  {
   "cell_type": "markdown",
   "metadata": {},
   "source": [
    "## Dashboard builder\n",
    "\n",
    "The drag and drop widgets can also be used to build a dashboard interactively.\n",
    "\n",
    "First let's define the structure of the dashboard by using the `AppLayout` layout template widget."
   ]
  },
  {
   "cell_type": "code",
   "execution_count": 89,
   "metadata": {},
   "outputs": [],
   "source": [
    "from ipywidgets import AppLayout, Button, DropBox, Layout, VBox"
   ]
  },
  {
   "cell_type": "markdown",
   "metadata": {},
   "source": [
    "Whenever a `DraggableBox` widget is dropped in a `Dropbox`, the content of the `Dropbox` will be replaced by the widget."
   ]
  },
  {
   "cell_type": "code",
   "execution_count": 168,
   "metadata": {},
   "outputs": [],
   "source": [
    "def attach_to_box(box, widget):\n",
    "    box.child = widget\n",
    "\n",
    "\n",
    "def create_expanded_dropbox(button_style):\n",
    "    box = DropBox(Button(description='Drop widget here', button_style=button_style, layout=Layout(width='100%', height='100%')))\n",
    "    box.on_drop(lambda *args: attach_to_box(box, args[1]['widget']))\n",
    "    return box"
   ]
  },
  {
   "cell_type": "markdown",
   "metadata": {},
   "source": [
    "Lets' create the app layout:"
   ]
  },
  {
   "cell_type": "code",
   "execution_count": 234,
   "metadata": {},
   "outputs": [],
   "source": [
    "header = create_expanded_dropbox('success')\n",
    "left_sidebar = create_expanded_dropbox('info')\n",
    "center = create_expanded_dropbox('warning')\n",
    "right_sidebar = create_expanded_dropbox('info')\n",
    "footer = create_expanded_dropbox('success')"
   ]
  },
  {
   "cell_type": "code",
   "execution_count": 235,
   "metadata": {},
   "outputs": [
    {
     "data": {
      "application/vnd.jupyter.widget-view+json": {
       "model_id": "",
       "version_major": 2,
       "version_minor": 0
      },
      "text/plain": [
       "AppLayout(children=(DropBox(child=Button(button_style='success', description='Drop widget here', layout=Layout…"
      ]
     },
     "execution_count": 235,
     "metadata": {},
     "output_type": "execute_result"
    }
   ],
   "source": [
    "app = AppLayout(\n",
    "    header=header,\n",
    "    left_sidebar=left_sidebar,\n",
    "    center=center,\n",
    "    right_sidebar=right_sidebar,\n",
    "    footer=footer\n",
    ")\n",
    "app"
   ]
  },
  {
   "cell_type": "markdown",
   "metadata": {},
   "source": [
    "Now let's create the widgets to place in the dashboard."
   ]
  },
  {
   "cell_type": "code",
   "execution_count": 231,
   "metadata": {},
   "outputs": [],
   "source": [
    "from ipywidgets import DraggableBox, Dropdown, IntProgress, IntSlider, Label, Tab, Text, link"
   ]
  },
  {
   "cell_type": "code",
   "execution_count": 222,
   "metadata": {},
   "outputs": [
    {
     "data": {
      "application/vnd.jupyter.widget-view+json": {
       "model_id": "b282609b7b3a44d6ba7637e469bcfe99",
       "version_major": 2,
       "version_minor": 0
      },
      "text/plain": [
       "DraggableBox(child=Label(value='My Custom Dashboard', layout=Layout(display='flex', justify_content='center', …"
      ]
     },
     "execution_count": 222,
     "metadata": {},
     "output_type": "execute_result"
    }
   ],
   "source": [
    "title = Label('My Custom Dashboard', layout=Layout(display='flex', justify_content='center', width='auto'))\n",
    "DraggableBox(title, draggable=True)"
   ]
  },
  {
   "cell_type": "code",
   "execution_count": 223,
   "metadata": {},
   "outputs": [
    {
     "data": {
      "application/vnd.jupyter.widget-view+json": {
       "model_id": "942f43e681eb4dab9327b1323c2b2983",
       "version_major": 2,
       "version_minor": 0
      },
      "text/plain": [
       "DraggableBox(child=IntSlider(value=0, description='Slider', layout=Layout(width='auto'), max=10))"
      ]
     },
     "execution_count": 223,
     "metadata": {},
     "output_type": "execute_result"
    }
   ],
   "source": [
    "slider = IntSlider(min=0, max=10, step=1, layout=Layout(width='auto'), description='Slider')\n",
    "DraggableBox(slider, draggable=True)"
   ]
  },
  {
   "cell_type": "code",
   "execution_count": 224,
   "metadata": {},
   "outputs": [
    {
     "data": {
      "application/vnd.jupyter.widget-view+json": {
       "model_id": "9bf2cf7789154ac2b339a31050b9e49c",
       "version_major": 2,
       "version_minor": 0
      },
      "text/plain": [
       "DraggableBox(child=IntProgress(value=0, description='Loading:', layout=Layout(width='auto'), max=10))"
      ]
     },
     "execution_count": 224,
     "metadata": {},
     "output_type": "execute_result"
    }
   ],
   "source": [
    "progress = IntProgress(\n",
    "    min=0,\n",
    "    max=10,\n",
    "    step=1,\n",
    "    description='Loading:',\n",
    "    orientation='horizontal',\n",
    "    layout=Layout(width='auto')\n",
    ")\n",
    "link((slider, 'value'), (progress, 'value'))\n",
    "DraggableBox(progress, draggable=True)"
   ]
  },
  {
   "cell_type": "code",
   "execution_count": 233,
   "metadata": {},
   "outputs": [
    {
     "data": {
      "application/vnd.jupyter.widget-view+json": {
       "model_id": "6d7f8a05a9154a70be82a4d55f614c2b",
       "version_major": 2,
       "version_minor": 0
      },
      "text/plain": [
       "DraggableBox(child=Tab(children=(Text(value='', description='P0'), Text(value='', description='P1'), Text(valu…"
      ]
     },
     "execution_count": 233,
     "metadata": {},
     "output_type": "execute_result"
    }
   ],
   "source": [
    "tab_contents = ['P0', 'P1', 'P2', 'P3', 'P4']\n",
    "children = [Text(description=name) for name in tab_contents]\n",
    "tab = Tab()\n",
    "tab.children = children\n",
    "for i in range(len(children)):\n",
    "    tab.set_title(i, str(i))\n",
    "DraggableBox(tab, draggable=True)"
   ]
  },
  {
   "cell_type": "markdown",
   "metadata": {},
   "source": [
    "Now let's drag the widgets and drop them in the app layout.\n",
    "\n",
    "In JupyterLab you can open the widget in a different panel by right clicking on the `AppLayout` widget and selecting `Create New View for Output`:\n",
    "\n",
    "![create-new-view-for-output](./images/create-new-view-for-output.png)"
   ]
  }
 ],
 "metadata": {
  "kernelspec": {
   "display_name": "Python 3",
   "language": "python",
   "name": "python3"
  },
  "language_info": {
   "codemirror_mode": {
    "name": "ipython",
    "version": 3
   },
   "file_extension": ".py",
   "mimetype": "text/x-python",
   "name": "python",
   "nbconvert_exporter": "python",
   "pygments_lexer": "ipython3",
   "version": "3.8.1"
  },
  "widgets": {
   "application/vnd.jupyter.widget-state+json": {
    "state": {
     "006ec19b4176477d887f39873fc574cf": {
      "model_module": "@jupyter-widgets/controls",
      "model_module_version": "1.5.0",
      "model_name": "TextareaModel",
      "state": {
       "layout": "IPY_MODEL_7fbbc897af6d409dad4b569d8be7e736",
       "style": "IPY_MODEL_7b6ddfbad5014fafa6d8f064289a8886"
      }
     },
     "01c37f597be04c498a73eb4acbb227fa": {
      "model_module": "@jupyter-widgets/base",
      "model_module_version": "1.2.0",
      "model_name": "LayoutModel",
      "state": {}
     },
     "01deb35b5fe047de952094378a605497": {
      "model_module": "@jupyter-widgets/base",
      "model_module_version": "1.2.0",
      "model_name": "LayoutModel",
      "state": {}
     },
     "02c3f49a8c314ad2a5fdecd07e404d14": {
      "model_module": "@jupyter-widgets/controls",
      "model_module_version": "1.5.0",
      "model_name": "TextareaModel",
      "state": {
       "layout": "IPY_MODEL_1e1c66f944354d7e995697669bcab528",
       "style": "IPY_MODEL_8bad98b7fcd14fe5806f42a1c98a81a0"
      }
     },
     "032ee31214a7457eb4c7d4757a064a10": {
      "model_module": "@jupyter-widgets/controls",
      "model_module_version": "1.5.0",
      "model_name": "ButtonModel",
      "state": {
       "button_style": "warning",
       "description": "Drag me",
       "layout": "IPY_MODEL_4e852a005f054708b0273bbfb4f9c80b",
       "style": "IPY_MODEL_9f26b0c220a346b9abfb74edcc550707",
       "tooltip": null
      }
     },
     "046232f6b33e4a36b152add3088140e7": {
      "model_module": "@jupyter-widgets/base",
      "model_module_version": "1.2.0",
      "model_name": "LayoutModel",
      "state": {}
     },
     "05065c1ecd0e4f3d8fa6cbf4be7f5342": {
      "model_module": "@jupyter-widgets/base",
      "model_module_version": "1.2.0",
      "model_name": "LayoutModel",
      "state": {}
     },
     "0646474e267545ae929372bea69640d9": {
      "model_module": "@jupyter-widgets/base",
      "model_module_version": "1.2.0",
      "model_name": "LayoutModel",
      "state": {
       "height": "100px",
       "width": "200px"
      }
     },
     "06be6d0ac75a4093ae467b8d6fa215b5": {
      "model_module": "@jupyter-widgets/base",
      "model_module_version": "1.2.0",
      "model_name": "LayoutModel",
      "state": {}
     },
     "076ed0b2ab1843b6ae5a7239369dabf2": {
      "model_module": "@jupyter-widgets/controls",
      "model_module_version": "1.5.0",
      "model_name": "DescriptionStyleModel",
      "state": {
       "description_width": ""
      }
     },
     "09537c4e5abb4caf9da9ff34c8da3deb": {
      "model_module": "@jupyter-widgets/controls",
      "model_module_version": "1.5.0",
      "model_name": "DescriptionStyleModel",
      "state": {
       "description_width": ""
      }
     },
     "0995ea3fb2c14dc2b8b2cb524d88829c": {
      "model_module": "@jupyter-widgets/controls",
      "model_module_version": "1.5.0",
      "model_name": "LabelModel",
      "state": {
       "layout": "IPY_MODEL_d6d724e05e0940adb9ccae0ef1510b4c",
       "style": "IPY_MODEL_83ce23077a1b4728bbfd810e06950e7f",
       "value": "Drop here"
      }
     },
     "0a8426d2ce2744018c8cb0dd6817dc66": {
      "model_module": "@jupyter-widgets/controls",
      "model_module_version": "1.5.0",
      "model_name": "DraggableBoxModel",
      "state": {
       "child": "IPY_MODEL_032ee31214a7457eb4c7d4757a064a10",
       "layout": "IPY_MODEL_05065c1ecd0e4f3d8fa6cbf4be7f5342"
      }
     },
     "0ae160af4e9e42a0ae1ff67f3a54c9fa": {
      "model_module": "@jupyter-widgets/base",
      "model_module_version": "1.2.0",
      "model_name": "LayoutModel",
      "state": {}
     },
     "0bf6efc35af8474bbf262cb2ee9345ea": {
      "model_module": "@jupyter-widgets/controls",
      "model_module_version": "1.5.0",
      "model_name": "DescriptionStyleModel",
      "state": {
       "description_width": ""
      }
     },
     "0c05677ab3ea432fb6cc2742f3cad5f4": {
      "model_module": "@jupyter-widgets/base",
      "model_module_version": "1.2.0",
      "model_name": "LayoutModel",
      "state": {}
     },
     "0ddd0b6ef08c437893e8806668602d51": {
      "model_module": "@jupyter-widgets/controls",
      "model_module_version": "1.5.0",
      "model_name": "DescriptionStyleModel",
      "state": {
       "description_width": ""
      }
     },
     "11631f7c4b7241bc9e8869660d31452b": {
      "model_module": "@jupyter-widgets/controls",
      "model_module_version": "1.5.0",
      "model_name": "DraggableBoxModel",
      "state": {
       "child": "IPY_MODEL_cd422a1d16a64f2f9b59c9059b3755f4",
       "layout": "IPY_MODEL_580abb7f69d645f399230225c418b4f7"
      }
     },
     "11d710d49e784f8f962b3774a025c2f3": {
      "model_module": "@jupyter-widgets/base",
      "model_module_version": "1.2.0",
      "model_name": "LayoutModel",
      "state": {}
     },
     "1240723fbf5e4882b2c6786d3045fc03": {
      "model_module": "@jupyter-widgets/controls",
      "model_module_version": "1.5.0",
      "model_name": "DescriptionStyleModel",
      "state": {
       "description_width": ""
      }
     },
     "12f51715b87246db86ef32b72060709b": {
      "model_module": "@jupyter-widgets/base",
      "model_module_version": "1.2.0",
      "model_name": "LayoutModel",
      "state": {}
     },
     "149fac36fff14c5a9d9667fb5a598d03": {
      "model_module": "@jupyter-widgets/controls",
      "model_module_version": "1.5.0",
      "model_name": "DraggableBoxModel",
      "state": {
       "child": "IPY_MODEL_e3a0cf233b534ce89f72dd8a658d4178",
       "layout": "IPY_MODEL_242d2794d1b14eb1951d68198c68b3ef"
      }
     },
     "1678c5b785b64af48edf1443df70b850": {
      "model_module": "@jupyter-widgets/controls",
      "model_module_version": "1.5.0",
      "model_name": "ButtonStyleModel",
      "state": {}
     },
     "1715b856931b426d8ff4a3f6c9fe6755": {
      "model_module": "@jupyter-widgets/base",
      "model_module_version": "1.2.0",
      "model_name": "LayoutModel",
      "state": {}
     },
     "1929bcc7a23745dc9b4ceacc8457f69d": {
      "model_module": "@jupyter-widgets/controls",
      "model_module_version": "1.5.0",
      "model_name": "DescriptionStyleModel",
      "state": {
       "description_width": ""
      }
     },
     "1c3157e32d6b46bbbc0a289cefda7ecd": {
      "model_module": "@jupyter-widgets/controls",
      "model_module_version": "1.5.0",
      "model_name": "ButtonStyleModel",
      "state": {}
     },
     "1c3c325df6ce435ab265a6b50e87d2cb": {
      "model_module": "@jupyter-widgets/base",
      "model_module_version": "1.2.0",
      "model_name": "LayoutModel",
      "state": {
       "height": "100px",
       "width": "200px"
      }
     },
     "1c43eb9e0f1d43f492172a86a60cdb6f": {
      "model_module": "@jupyter-widgets/controls",
      "model_module_version": "1.5.0",
      "model_name": "ButtonStyleModel",
      "state": {}
     },
     "1c67bc06e5694d27832c1394fdca9516": {
      "model_module": "@jupyter-widgets/controls",
      "model_module_version": "1.5.0",
      "model_name": "ButtonStyleModel",
      "state": {}
     },
     "1e1c66f944354d7e995697669bcab528": {
      "model_module": "@jupyter-widgets/base",
      "model_module_version": "1.2.0",
      "model_name": "LayoutModel",
      "state": {}
     },
     "20496b93a0f14a929fdff8b5dfc228a0": {
      "model_module": "@jupyter-widgets/base",
      "model_module_version": "1.2.0",
      "model_name": "LayoutModel",
      "state": {}
     },
     "20c9bce34e9e48429a910a39d91cf467": {
      "model_module": "@jupyter-widgets/controls",
      "model_module_version": "1.5.0",
      "model_name": "ButtonModel",
      "state": {
       "button_style": "success",
       "description": "Hover on me",
       "layout": "IPY_MODEL_68b9f521b5bb4e9b90788f2660c4d1e3",
       "style": "IPY_MODEL_1c67bc06e5694d27832c1394fdca9516",
       "tooltip": null
      }
     },
     "241b4074d17b4714867d61514fa2f6ab": {
      "model_module": "@jupyter-widgets/base",
      "model_module_version": "1.2.0",
      "model_name": "LayoutModel",
      "state": {}
     },
     "242d2794d1b14eb1951d68198c68b3ef": {
      "model_module": "@jupyter-widgets/base",
      "model_module_version": "1.2.0",
      "model_name": "LayoutModel",
      "state": {}
     },
     "2698fdccadf44090a30a3bde39403c96": {
      "model_module": "@jupyter-widgets/base",
      "model_module_version": "1.2.0",
      "model_name": "LayoutModel",
      "state": {
       "height": "150px",
       "width": "350px"
      }
     },
     "26ba4fb8ef3f4decabea1b7f59b35980": {
      "model_module": "@jupyter-widgets/controls",
      "model_module_version": "1.5.0",
      "model_name": "ButtonStyleModel",
      "state": {}
     },
     "26c3c45003a942cfb3cf0fe83614e18a": {
      "model_module": "@jupyter-widgets/base",
      "model_module_version": "1.2.0",
      "model_name": "LayoutModel",
      "state": {}
     },
     "29a855552adb4333b3f2777334c50a47": {
      "model_module": "@jupyter-widgets/controls",
      "model_module_version": "1.5.0",
      "model_name": "ButtonStyleModel",
      "state": {}
     },
     "2a54b368fabd4faaac9ebe5ca92bb1cc": {
      "model_module": "@jupyter-widgets/base",
      "model_module_version": "1.2.0",
      "model_name": "LayoutModel",
      "state": {}
     },
     "2bd57b7fc226482793af9a05007d3bb5": {
      "model_module": "@jupyter-widgets/controls",
      "model_module_version": "1.5.0",
      "model_name": "LabelModel",
      "state": {
       "layout": "IPY_MODEL_4ec27dc5fa1c4c3895c70ecfb246f97a",
       "style": "IPY_MODEL_49c2b49f1d294fb49d86c200b1fc0050",
       "value": "Drag me"
      }
     },
     "2ec1cff6823344c7ad0cbe8e4cb1768e": {
      "model_module": "@jupyter-widgets/base",
      "model_module_version": "1.2.0",
      "model_name": "LayoutModel",
      "state": {}
     },
     "2f920456a49d46238448ff4c8f7007ab": {
      "model_module": "@jupyter-widgets/base",
      "model_module_version": "1.2.0",
      "model_name": "LayoutModel",
      "state": {}
     },
     "30eca923ac754aed8eb1596d60d8f9e3": {
      "model_module": "@jupyter-widgets/base",
      "model_module_version": "1.2.0",
      "model_name": "LayoutModel",
      "state": {}
     },
     "31d5fcc84c6e4d3bb431d34bc4c0bbf1": {
      "model_module": "@jupyter-widgets/base",
      "model_module_version": "1.2.0",
      "model_name": "LayoutModel",
      "state": {}
     },
     "31e14d2173c14bc592a149d8d59fdc18": {
      "model_module": "@jupyter-widgets/controls",
      "model_module_version": "1.5.0",
      "model_name": "VBoxModel",
      "state": {
       "children": [
        "IPY_MODEL_870cfb4d6c2948fbb00398c4282886cf"
       ],
       "layout": "IPY_MODEL_241b4074d17b4714867d61514fa2f6ab"
      }
     },
     "32a78a39cbb64c1a8b1ec083abf6fa38": {
      "model_module": "@jupyter-widgets/base",
      "model_module_version": "1.2.0",
      "model_name": "LayoutModel",
      "state": {
       "width": "250px"
      }
     },
     "32b348367b704d0291c11680f34840b7": {
      "model_module": "@jupyter-widgets/controls",
      "model_module_version": "1.5.0",
      "model_name": "DropBoxModel",
      "state": {
       "child": "IPY_MODEL_61d58a83f23c42689f8c2d1030bc397b",
       "drag_data": {},
       "draggable": false,
       "layout": "IPY_MODEL_7c031e8211894430991c19020b391165"
      }
     },
     "33b6711b175b46a280d923ce32889576": {
      "model_module": "@jupyter-widgets/controls",
      "model_module_version": "1.5.0",
      "model_name": "DraggableBoxModel",
      "state": {
       "child": "IPY_MODEL_7188a03fe93d407da1a0a5982249ac55",
       "layout": "IPY_MODEL_046232f6b33e4a36b152add3088140e7"
      }
     },
     "33ecd741fcf84d74936b52d5e3c74796": {
      "model_module": "@jupyter-widgets/controls",
      "model_module_version": "1.5.0",
      "model_name": "LabelModel",
      "state": {
       "layout": "IPY_MODEL_ee81db3588314a3a84aaf832308a759e",
       "style": "IPY_MODEL_d9a19fd2d80b471aa1f42772fe1053f6",
       "value": "Drag me"
      }
     },
     "345e36a135fa48f0b5249ae9c2f85556": {
      "model_module": "@jupyter-widgets/base",
      "model_module_version": "1.2.0",
      "model_name": "LayoutModel",
      "state": {}
     },
     "375b9b913b954e248a9f656babc7ab56": {
      "model_module": "@jupyter-widgets/controls",
      "model_module_version": "1.5.0",
      "model_name": "DescriptionStyleModel",
      "state": {
       "description_width": ""
      }
     },
     "3c652f6dc05143b0af664f13a1029c58": {
      "model_module": "@jupyter-widgets/base",
      "model_module_version": "1.2.0",
      "model_name": "LayoutModel",
      "state": {}
     },
     "3d1a2abe960c483c8861a77d8b687113": {
      "model_module": "@jupyter-widgets/base",
      "model_module_version": "1.2.0",
      "model_name": "LayoutModel",
      "state": {}
     },
     "3f7ad7a3106f4702bd7c59354fef7384": {
      "model_module": "@jupyter-widgets/controls",
      "model_module_version": "1.5.0",
      "model_name": "DescriptionStyleModel",
      "state": {
       "description_width": ""
      }
     },
     "41b378adf59b46b78ffd9c1dcc444c60": {
      "model_module": "@jupyter-widgets/base",
      "model_module_version": "1.2.0",
      "model_name": "LayoutModel",
      "state": {}
     },
     "4239a46d8e764b2b98615cac9cb7abc7": {
      "model_module": "@jupyter-widgets/controls",
      "model_module_version": "1.5.0",
      "model_name": "DropBoxModel",
      "state": {
       "child": "IPY_MODEL_66ac23786cab408ba66535ab8bf5eb02",
       "drag_data": {},
       "draggable": false,
       "layout": "IPY_MODEL_73af6fadc3c548879a8c914e6035c0fd"
      }
     },
     "42e54308ea2b4e51b2d04e5f315d46ae": {
      "model_module": "@jupyter-widgets/controls",
      "model_module_version": "1.5.0",
      "model_name": "DraggableBoxModel",
      "state": {
       "child": "IPY_MODEL_c07d0a9e830143c2b4418011e01a6710",
       "layout": "IPY_MODEL_d726c5b070a249bd92808fbd9b7d2b3a"
      }
     },
     "4823803d59fe4953bd7d95c6d8697129": {
      "model_module": "@jupyter-widgets/controls",
      "model_module_version": "1.5.0",
      "model_name": "VBoxModel",
      "state": {
       "children": [
        "IPY_MODEL_0995ea3fb2c14dc2b8b2cb524d88829c"
       ],
       "layout": "IPY_MODEL_345e36a135fa48f0b5249ae9c2f85556"
      }
     },
     "488b5edc8a2d446e9f05ab5c28936122": {
      "model_module": "@jupyter-widgets/base",
      "model_module_version": "1.2.0",
      "model_name": "LayoutModel",
      "state": {}
     },
     "49351ae8f1a847feb094ab921ffc4670": {
      "model_module": "@jupyter-widgets/base",
      "model_module_version": "1.2.0",
      "model_name": "LayoutModel",
      "state": {}
     },
     "49c2b49f1d294fb49d86c200b1fc0050": {
      "model_module": "@jupyter-widgets/controls",
      "model_module_version": "1.5.0",
      "model_name": "DescriptionStyleModel",
      "state": {
       "description_width": ""
      }
     },
     "4acfe5e95d5b48f4a7d7d5d3d2309daa": {
      "model_module": "@jupyter-widgets/controls",
      "model_module_version": "1.5.0",
      "model_name": "ButtonStyleModel",
      "state": {}
     },
     "4ae6b734261641f99a78628ace880569": {
      "model_module": "@jupyter-widgets/controls",
      "model_module_version": "1.5.0",
      "model_name": "DraggableBoxModel",
      "state": {
       "child": "IPY_MODEL_fb513e93534d486e98cf512b6afb2213",
       "layout": "IPY_MODEL_ff22e6c42aef43ee91bd236ad37d4821"
      }
     },
     "4e852a005f054708b0273bbfb4f9c80b": {
      "model_module": "@jupyter-widgets/base",
      "model_module_version": "1.2.0",
      "model_name": "LayoutModel",
      "state": {}
     },
     "4ec27dc5fa1c4c3895c70ecfb246f97a": {
      "model_module": "@jupyter-widgets/base",
      "model_module_version": "1.2.0",
      "model_name": "LayoutModel",
      "state": {}
     },
     "54bc02f07e0749809a198fbd31e352fa": {
      "model_module": "@jupyter-widgets/controls",
      "model_module_version": "1.5.0",
      "model_name": "LabelModel",
      "state": {
       "layout": "IPY_MODEL_30eca923ac754aed8eb1596d60d8f9e3",
       "style": "IPY_MODEL_ac5d0c3efded42b395a5e69dd1c4167f",
       "value": "Drag me"
      }
     },
     "55852d57ed01420a90d03defb5b80ddf": {
      "model_module": "@jupyter-widgets/controls",
      "model_module_version": "1.5.0",
      "model_name": "LabelModel",
      "state": {
       "layout": "IPY_MODEL_fdf81136b53f4c099f95b0f6cd08f01d",
       "style": "IPY_MODEL_0ddd0b6ef08c437893e8806668602d51",
       "value": "Drop here!"
      }
     },
     "580abb7f69d645f399230225c418b4f7": {
      "model_module": "@jupyter-widgets/base",
      "model_module_version": "1.2.0",
      "model_name": "LayoutModel",
      "state": {}
     },
     "5b7dbc57e54845b79e0c4052b2662e61": {
      "model_module": "@jupyter-widgets/base",
      "model_module_version": "1.2.0",
      "model_name": "LayoutModel",
      "state": {}
     },
     "5b92d1969dde44f58f508eb115c2cb2b": {
      "model_module": "@jupyter-widgets/controls",
      "model_module_version": "1.5.0",
      "model_name": "LabelModel",
      "state": {
       "layout": "IPY_MODEL_c261a6c70faa444fb9440d91ab1cda2f",
       "style": "IPY_MODEL_de4740c4eddb440dadb78720f85e7246",
       "value": "Drop here"
      }
     },
     "5d39363e29234dfbb7a4c58ce37d569f": {
      "model_module": "@jupyter-widgets/base",
      "model_module_version": "1.2.0",
      "model_name": "LayoutModel",
      "state": {}
     },
     "603286abf0e64a6cb63e74b5e68f9aca": {
      "model_module": "@jupyter-widgets/base",
      "model_module_version": "1.2.0",
      "model_name": "LayoutModel",
      "state": {}
     },
     "61a77f9b9b4e4c54aecb6c47e4fa449d": {
      "model_module": "@jupyter-widgets/controls",
      "model_module_version": "1.5.0",
      "model_name": "DraggableBoxModel",
      "state": {
       "child": "IPY_MODEL_9ce6f58b86954afca47ef19c9aa60f7d",
       "layout": "IPY_MODEL_2ec1cff6823344c7ad0cbe8e4cb1768e"
      }
     },
     "61d58a83f23c42689f8c2d1030bc397b": {
      "model_module": "@jupyter-widgets/controls",
      "model_module_version": "1.5.0",
      "model_name": "VBoxModel",
      "state": {
       "children": [
        "IPY_MODEL_ce9bb22ec5194cac9b7336b151fd8fd8"
       ],
       "layout": "IPY_MODEL_a238fbb72fcf430ba64e5e41c729c627"
      }
     },
     "61d7c8bb4fe348e798c7b50e874abd23": {
      "model_module": "@jupyter-widgets/controls",
      "model_module_version": "1.5.0",
      "model_name": "DropBoxModel",
      "state": {
       "child": "IPY_MODEL_5b92d1969dde44f58f508eb115c2cb2b",
       "drag_data": {},
       "draggable": false,
       "layout": "IPY_MODEL_0ae160af4e9e42a0ae1ff67f3a54c9fa"
      }
     },
     "623bc94a81b3401bb4a0f655c1cdf156": {
      "model_module": "@jupyter-widgets/controls",
      "model_module_version": "1.5.0",
      "model_name": "LabelModel",
      "state": {
       "layout": "IPY_MODEL_c52d42100ba048b08b78a70534ccf0ef",
       "style": "IPY_MODEL_09537c4e5abb4caf9da9ff34c8da3deb",
       "value": "Hello Drag"
      }
     },
     "632f404ff97b4b88935a166807b9b3f9": {
      "model_module": "@jupyter-widgets/controls",
      "model_module_version": "1.5.0",
      "model_name": "IntSliderModel",
      "state": {
       "description": "Drag me",
       "layout": "IPY_MODEL_c57a2d5aec4b48128e9ee5d7161350ef",
       "style": "IPY_MODEL_b5fc7dbb9a304589b94f92e96fdc8a57"
      }
     },
     "634a0faf6dc24518b815536926bf9f5e": {
      "model_module": "@jupyter-widgets/base",
      "model_module_version": "1.2.0",
      "model_name": "LayoutModel",
      "state": {}
     },
     "652fee7ef3ff4fbe8a226483a99069b5": {
      "model_module": "@jupyter-widgets/base",
      "model_module_version": "1.2.0",
      "model_name": "LayoutModel",
      "state": {}
     },
     "6611e3b17c404006bb17d18b0d0e883c": {
      "model_module": "@jupyter-widgets/controls",
      "model_module_version": "1.5.0",
      "model_name": "LabelModel",
      "state": {
       "layout": "IPY_MODEL_c4c94bde6ab9478d869b7f9f0107fb81",
       "style": "IPY_MODEL_e98ff07c8f274a3ab99d6c8db4c03204",
       "value": "Drop on me"
      }
     },
     "66ac23786cab408ba66535ab8bf5eb02": {
      "model_module": "@jupyter-widgets/controls",
      "model_module_version": "1.5.0",
      "model_name": "LabelModel",
      "state": {
       "layout": "IPY_MODEL_2a54b368fabd4faaac9ebe5ca92bb1cc",
       "style": "IPY_MODEL_3f7ad7a3106f4702bd7c59354fef7384",
       "value": "Drop on me"
      }
     },
     "6806c14c7fcc41aead90bc954eb634bf": {
      "model_module": "@jupyter-widgets/controls",
      "model_module_version": "1.5.0",
      "model_name": "ButtonModel",
      "state": {
       "button_style": "danger",
       "description": "Hover on me",
       "layout": "IPY_MODEL_5d39363e29234dfbb7a4c58ce37d569f",
       "style": "IPY_MODEL_1c3157e32d6b46bbbc0a289cefda7ecd",
       "tooltip": null
      }
     },
     "6825c2b6711446088b443f059bd2e1cd": {
      "model_module": "@jupyter-widgets/controls",
      "model_module_version": "1.5.0",
      "model_name": "DescriptionStyleModel",
      "state": {
       "description_width": ""
      }
     },
     "68b9f521b5bb4e9b90788f2660c4d1e3": {
      "model_module": "@jupyter-widgets/base",
      "model_module_version": "1.2.0",
      "model_name": "LayoutModel",
      "state": {}
     },
     "6a4b5dd836dd4132a8826396ef31c17c": {
      "model_module": "@jupyter-widgets/controls",
      "model_module_version": "1.5.0",
      "model_name": "DraggableBoxModel",
      "state": {
       "child": "IPY_MODEL_a4234b8de82843cc8b9db4b6e9c48d6d",
       "layout": "IPY_MODEL_488b5edc8a2d446e9f05ab5c28936122"
      }
     },
     "6a9a9992977642ffbe61593b1a92b250": {
      "model_module": "@jupyter-widgets/controls",
      "model_module_version": "1.5.0",
      "model_name": "DraggableBoxModel",
      "state": {
       "child": "IPY_MODEL_632f404ff97b4b88935a166807b9b3f9",
       "layout": "IPY_MODEL_b2978b370b474424beb756c56e1af8fb"
      }
     },
     "6c436adce00445f282a501825b8b6e0c": {
      "model_module": "@jupyter-widgets/base",
      "model_module_version": "1.2.0",
      "model_name": "LayoutModel",
      "state": {}
     },
     "6c6c450e58d3400e83dcf2e48a2e040e": {
      "model_module": "@jupyter-widgets/controls",
      "model_module_version": "1.5.0",
      "model_name": "LabelModel",
      "state": {
       "layout": "IPY_MODEL_2f920456a49d46238448ff4c8f7007ab",
       "style": "IPY_MODEL_c203cce3f9af423f930e8f0b92c13b7f",
       "value": "Drag me"
      }
     },
     "7188a03fe93d407da1a0a5982249ac55": {
      "model_module": "@jupyter-widgets/controls",
      "model_module_version": "1.5.0",
      "model_name": "ButtonModel",
      "state": {
       "button_style": "info",
       "description": "Drag me",
       "layout": "IPY_MODEL_f8670ff8d7db4315b4f6f43c18377e7d",
       "style": "IPY_MODEL_26ba4fb8ef3f4decabea1b7f59b35980",
       "tooltip": null
      }
     },
     "719d98d71db14ee08ee20a9ce06e7d60": {
      "model_module": "@jupyter-widgets/base",
      "model_module_version": "1.2.0",
      "model_name": "LayoutModel",
      "state": {}
     },
     "71cc7c8258b344d1bc00656811a61373": {
      "model_module": "@jupyter-widgets/controls",
      "model_module_version": "1.5.0",
      "model_name": "DescriptionStyleModel",
      "state": {
       "description_width": ""
      }
     },
     "73af6fadc3c548879a8c914e6035c0fd": {
      "model_module": "@jupyter-widgets/base",
      "model_module_version": "1.2.0",
      "model_name": "LayoutModel",
      "state": {}
     },
     "747c205edfc645aa970374e5b1110254": {
      "model_module": "@jupyter-widgets/controls",
      "model_module_version": "1.5.0",
      "model_name": "DescriptionStyleModel",
      "state": {
       "description_width": ""
      }
     },
     "756df5a7428b47b5bcb2c72d93f71fc1": {
      "model_module": "@jupyter-widgets/controls",
      "model_module_version": "1.5.0",
      "model_name": "IntSliderModel",
      "state": {
       "description": "Drag me",
       "layout": "IPY_MODEL_32a78a39cbb64c1a8b1ec083abf6fa38",
       "style": "IPY_MODEL_d5a8e1335d834834968d123020302825"
      }
     },
     "77440af6001547b3b47d0cc1069bde8d": {
      "model_module": "@jupyter-widgets/controls",
      "model_module_version": "1.5.0",
      "model_name": "DropBoxModel",
      "state": {
       "child": "IPY_MODEL_6611e3b17c404006bb17d18b0d0e883c",
       "drag_data": {},
       "draggable": false,
       "layout": "IPY_MODEL_b0ddb6058f204b08998315447d1b9917"
      }
     },
     "77b8adcb7ae34e55bff8591f534d1596": {
      "model_module": "@jupyter-widgets/controls",
      "model_module_version": "1.5.0",
      "model_name": "DraggableBoxModel",
      "state": {
       "child": "IPY_MODEL_623bc94a81b3401bb4a0f655c1cdf156",
       "layout": "IPY_MODEL_3c652f6dc05143b0af664f13a1029c58"
      }
     },
     "77fcb536dd984cf7a52f4ad8d92b1264": {
      "model_module": "@jupyter-widgets/controls",
      "model_module_version": "1.5.0",
      "model_name": "ButtonStyleModel",
      "state": {}
     },
     "791bb73d6e4741a6a8a2685cb722d561": {
      "model_module": "@jupyter-widgets/controls",
      "model_module_version": "1.5.0",
      "model_name": "ButtonStyleModel",
      "state": {}
     },
     "798c7b6c571f41c9a72d1e6733c5b1b7": {
      "model_module": "@jupyter-widgets/controls",
      "model_module_version": "1.5.0",
      "model_name": "DraggableBoxModel",
      "state": {
       "child": "IPY_MODEL_54bc02f07e0749809a198fbd31e352fa",
       "layout": "IPY_MODEL_01deb35b5fe047de952094378a605497"
      }
     },
     "7b6ddfbad5014fafa6d8f064289a8886": {
      "model_module": "@jupyter-widgets/controls",
      "model_module_version": "1.5.0",
      "model_name": "DescriptionStyleModel",
      "state": {
       "description_width": ""
      }
     },
     "7c031e8211894430991c19020b391165": {
      "model_module": "@jupyter-widgets/base",
      "model_module_version": "1.2.0",
      "model_name": "LayoutModel",
      "state": {}
     },
     "7c090ec97f214432b5292ba50b7e28d5": {
      "model_module": "@jupyter-widgets/controls",
      "model_module_version": "1.5.0",
      "model_name": "DropBoxModel",
      "state": {
       "child": "IPY_MODEL_4823803d59fe4953bd7d95c6d8697129",
       "drag_data": {},
       "draggable": false,
       "layout": "IPY_MODEL_ca1fc975bc8145d2ace9353fd663ef96"
      }
     },
     "7df66a2241d44d2bbcb8f75f964c7435": {
      "model_module": "@jupyter-widgets/controls",
      "model_module_version": "1.5.0",
      "model_name": "ButtonModel",
      "state": {
       "button_style": "success",
       "description": "Hover on me",
       "layout": "IPY_MODEL_31d5fcc84c6e4d3bb431d34bc4c0bbf1",
       "style": "IPY_MODEL_f02c2d2c316141cd873c8279924c8cb6",
       "tooltip": null
      }
     },
     "7fbbc897af6d409dad4b569d8be7e736": {
      "model_module": "@jupyter-widgets/base",
      "model_module_version": "1.2.0",
      "model_name": "LayoutModel",
      "state": {}
     },
     "818cae7ed0dc454db50f9d65f4696406": {
      "model_module": "@jupyter-widgets/base",
      "model_module_version": "1.2.0",
      "model_name": "LayoutModel",
      "state": {}
     },
     "82f635570dd94de18e9eae127e48b210": {
      "model_module": "@jupyter-widgets/controls",
      "model_module_version": "1.5.0",
      "model_name": "LabelModel",
      "state": {
       "layout": "IPY_MODEL_634a0faf6dc24518b815536926bf9f5e",
       "style": "IPY_MODEL_076ed0b2ab1843b6ae5a7239369dabf2",
       "value": "Drag me"
      }
     },
     "8331799833cf4d84b5d5b92d72ea8749": {
      "model_module": "@jupyter-widgets/controls",
      "model_module_version": "1.5.0",
      "model_name": "ButtonModel",
      "state": {
       "button_style": "success",
       "description": "Hover on me",
       "layout": "IPY_MODEL_1715b856931b426d8ff4a3f6c9fe6755",
       "style": "IPY_MODEL_c3d0ba51634b4c019fa181f7552b0826",
       "tooltip": null
      }
     },
     "83ce23077a1b4728bbfd810e06950e7f": {
      "model_module": "@jupyter-widgets/controls",
      "model_module_version": "1.5.0",
      "model_name": "DescriptionStyleModel",
      "state": {
       "description_width": ""
      }
     },
     "8418d459598944668c735ed554829d51": {
      "model_module": "@jupyter-widgets/controls",
      "model_module_version": "1.5.0",
      "model_name": "DraggableBoxModel",
      "state": {
       "child": "IPY_MODEL_756df5a7428b47b5bcb2c72d93f71fc1",
       "layout": "IPY_MODEL_9e22a69e79644c93a86e5946f2743172"
      }
     },
     "870cfb4d6c2948fbb00398c4282886cf": {
      "model_module": "@jupyter-widgets/controls",
      "model_module_version": "1.5.0",
      "model_name": "LabelModel",
      "state": {
       "layout": "IPY_MODEL_b7bdd85ce0b34cbfa5d28fbee70d8c8f",
       "style": "IPY_MODEL_71cc7c8258b344d1bc00656811a61373",
       "value": "Drop here"
      }
     },
     "8bad98b7fcd14fe5806f42a1c98a81a0": {
      "model_module": "@jupyter-widgets/controls",
      "model_module_version": "1.5.0",
      "model_name": "DescriptionStyleModel",
      "state": {
       "description_width": ""
      }
     },
     "8df8b29d0a89443596a357da19256f6a": {
      "model_module": "@jupyter-widgets/controls",
      "model_module_version": "1.5.0",
      "model_name": "ButtonModel",
      "state": {
       "button_style": "danger",
       "layout": "IPY_MODEL_719d98d71db14ee08ee20a9ce06e7d60",
       "style": "IPY_MODEL_f41cb659c080431e85300cc0c9340159",
       "tooltip": null
      }
     },
     "8e0ae5dd80cc43b48246d4a84634649b": {
      "model_module": "@jupyter-widgets/controls",
      "model_module_version": "1.5.0",
      "model_name": "DraggableBoxModel",
      "state": {
       "child": "IPY_MODEL_909ecc1c09d44f5c88ef57787e83e4cc",
       "layout": "IPY_MODEL_11d710d49e784f8f962b3774a025c2f3"
      }
     },
     "909ecc1c09d44f5c88ef57787e83e4cc": {
      "model_module": "@jupyter-widgets/controls",
      "model_module_version": "1.5.0",
      "model_name": "ButtonModel",
      "state": {
       "button_style": "warning",
       "description": "Drag me",
       "layout": "IPY_MODEL_41b378adf59b46b78ffd9c1dcc444c60",
       "style": "IPY_MODEL_1c43eb9e0f1d43f492172a86a60cdb6f",
       "tooltip": null
      }
     },
     "90c4745919884028900153e15d57581b": {
      "model_module": "@jupyter-widgets/controls",
      "model_module_version": "1.5.0",
      "model_name": "ButtonModel",
      "state": {
       "button_style": "danger",
       "description": "dropped",
       "layout": "IPY_MODEL_5b7dbc57e54845b79e0c4052b2662e61",
       "style": "IPY_MODEL_791bb73d6e4741a6a8a2685cb722d561",
       "tooltip": null
      }
     },
     "9421276e962248d4a2ba5b00f3b4a081": {
      "model_module": "@jupyter-widgets/controls",
      "model_module_version": "1.5.0",
      "model_name": "ButtonModel",
      "state": {
       "button_style": "success",
       "description": "Hover on me",
       "layout": "IPY_MODEL_12f51715b87246db86ef32b72060709b",
       "style": "IPY_MODEL_77fcb536dd984cf7a52f4ad8d92b1264",
       "tooltip": null
      }
     },
     "9524922c374f482ea7409e32b0425443": {
      "model_module": "@jupyter-widgets/controls",
      "model_module_version": "1.5.0",
      "model_name": "LabelModel",
      "state": {
       "layout": "IPY_MODEL_652fee7ef3ff4fbe8a226483a99069b5",
       "style": "IPY_MODEL_1240723fbf5e4882b2c6786d3045fc03",
       "value": "Drop sliders below"
      }
     },
     "99547630c9154b61942d08d50ce7c406": {
      "model_module": "@jupyter-widgets/controls",
      "model_module_version": "1.5.0",
      "model_name": "ButtonStyleModel",
      "state": {}
     },
     "9ce6f58b86954afca47ef19c9aa60f7d": {
      "model_module": "@jupyter-widgets/controls",
      "model_module_version": "1.5.0",
      "model_name": "LabelModel",
      "state": {
       "layout": "IPY_MODEL_49351ae8f1a847feb094ab921ffc4670",
       "style": "IPY_MODEL_747c205edfc645aa970374e5b1110254",
       "value": "Hello Drag"
      }
     },
     "9d7c9cb849c846368107c0b22956b914": {
      "model_module": "@jupyter-widgets/base",
      "model_module_version": "1.2.0",
      "model_name": "LayoutModel",
      "state": {}
     },
     "9e22a69e79644c93a86e5946f2743172": {
      "model_module": "@jupyter-widgets/base",
      "model_module_version": "1.2.0",
      "model_name": "LayoutModel",
      "state": {}
     },
     "9ea402faa95a4f28a6e87252960b711f": {
      "model_module": "@jupyter-widgets/base",
      "model_module_version": "1.2.0",
      "model_name": "LayoutModel",
      "state": {}
     },
     "9f26b0c220a346b9abfb74edcc550707": {
      "model_module": "@jupyter-widgets/controls",
      "model_module_version": "1.5.0",
      "model_name": "ButtonStyleModel",
      "state": {}
     },
     "a1b5ead47a0d40baa815f848f3782e1b": {
      "model_module": "@jupyter-widgets/controls",
      "model_module_version": "1.5.0",
      "model_name": "DropBoxModel",
      "state": {
       "child": "IPY_MODEL_20c9bce34e9e48429a910a39d91cf467",
       "drag_data": {},
       "draggable": false,
       "layout": "IPY_MODEL_01c37f597be04c498a73eb4acbb227fa"
      }
     },
     "a238fbb72fcf430ba64e5e41c729c627": {
      "model_module": "@jupyter-widgets/base",
      "model_module_version": "1.2.0",
      "model_name": "LayoutModel",
      "state": {
       "height": "150px",
       "width": "350px"
      }
     },
     "a4234b8de82843cc8b9db4b6e9c48d6d": {
      "model_module": "@jupyter-widgets/controls",
      "model_module_version": "1.5.0",
      "model_name": "ButtonModel",
      "state": {
       "button_style": "info",
       "description": "Drag me",
       "layout": "IPY_MODEL_06be6d0ac75a4093ae467b8d6fa215b5",
       "style": "IPY_MODEL_99547630c9154b61942d08d50ce7c406",
       "tooltip": null
      }
     },
     "a5f2528ec8e54dad96897ec23f2cbfb7": {
      "model_module": "@jupyter-widgets/controls",
      "model_module_version": "1.5.0",
      "model_name": "ButtonModel",
      "state": {
       "button_style": "success",
       "description": "Hover on me",
       "layout": "IPY_MODEL_26c3c45003a942cfb3cf0fe83614e18a",
       "style": "IPY_MODEL_1678c5b785b64af48edf1443df70b850",
       "tooltip": null
      }
     },
     "a5f94f440d4c44c0ad96a8ca7152e32f": {
      "model_module": "@jupyter-widgets/controls",
      "model_module_version": "1.5.0",
      "model_name": "LabelModel",
      "state": {
       "layout": "IPY_MODEL_603286abf0e64a6cb63e74b5e68f9aca",
       "style": "IPY_MODEL_fc126a7617e44f71a95768bf99ee6dce",
       "value": "Drop here"
      }
     },
     "a881b3eadd3c4597bc23183506a27910": {
      "model_module": "@jupyter-widgets/base",
      "model_module_version": "1.2.0",
      "model_name": "LayoutModel",
      "state": {}
     },
     "aa0526a29d28474e9e05a5ec1384ddad": {
      "model_module": "@jupyter-widgets/base",
      "model_module_version": "1.2.0",
      "model_name": "LayoutModel",
      "state": {}
     },
     "ac5d0c3efded42b395a5e69dd1c4167f": {
      "model_module": "@jupyter-widgets/controls",
      "model_module_version": "1.5.0",
      "model_name": "DescriptionStyleModel",
      "state": {
       "description_width": ""
      }
     },
     "ad7fce8a39ec42589918c35f7ef740ad": {
      "model_module": "@jupyter-widgets/controls",
      "model_module_version": "1.5.0",
      "model_name": "ButtonModel",
      "state": {
       "button_style": "info",
       "description": "Drag me",
       "layout": "IPY_MODEL_b3745ef0150b47dfadf5bba87a38c867",
       "style": "IPY_MODEL_4acfe5e95d5b48f4a7d7d5d3d2309daa",
       "tooltip": null
      }
     },
     "afe327aa88df4f81bd8d2e60120cc24e": {
      "model_module": "@jupyter-widgets/base",
      "model_module_version": "1.2.0",
      "model_name": "LayoutModel",
      "state": {}
     },
     "b0ddb6058f204b08998315447d1b9917": {
      "model_module": "@jupyter-widgets/base",
      "model_module_version": "1.2.0",
      "model_name": "LayoutModel",
      "state": {}
     },
     "b1b08d5973d14c589dcd61eeec9de0f3": {
      "model_module": "@jupyter-widgets/base",
      "model_module_version": "1.2.0",
      "model_name": "LayoutModel",
      "state": {}
     },
     "b2978b370b474424beb756c56e1af8fb": {
      "model_module": "@jupyter-widgets/base",
      "model_module_version": "1.2.0",
      "model_name": "LayoutModel",
      "state": {}
     },
     "b3745ef0150b47dfadf5bba87a38c867": {
      "model_module": "@jupyter-widgets/base",
      "model_module_version": "1.2.0",
      "model_name": "LayoutModel",
      "state": {}
     },
     "b5fc7dbb9a304589b94f92e96fdc8a57": {
      "model_module": "@jupyter-widgets/controls",
      "model_module_version": "1.5.0",
      "model_name": "SliderStyleModel",
      "state": {
       "description_width": ""
      }
     },
     "b7bdd85ce0b34cbfa5d28fbee70d8c8f": {
      "model_module": "@jupyter-widgets/base",
      "model_module_version": "1.2.0",
      "model_name": "LayoutModel",
      "state": {}
     },
     "bae624213e8242d69eef84378aad237a": {
      "model_module": "@jupyter-widgets/controls",
      "model_module_version": "1.5.0",
      "model_name": "DropBoxModel",
      "state": {
       "child": "IPY_MODEL_8df8b29d0a89443596a357da19256f6a",
       "drag_data": {},
       "draggable": false,
       "layout": "IPY_MODEL_20496b93a0f14a929fdff8b5dfc228a0"
      }
     },
     "bb577dc5d82f47ad97cbbc1601c0244d": {
      "model_module": "@jupyter-widgets/base",
      "model_module_version": "1.2.0",
      "model_name": "LayoutModel",
      "state": {}
     },
     "bf658905d8c4414d820cabde18e6b671": {
      "model_module": "@jupyter-widgets/base",
      "model_module_version": "1.2.0",
      "model_name": "LayoutModel",
      "state": {}
     },
     "c07d0a9e830143c2b4418011e01a6710": {
      "model_module": "@jupyter-widgets/controls",
      "model_module_version": "1.5.0",
      "model_name": "ButtonModel",
      "state": {
       "button_style": "warning",
       "description": "Drag me",
       "layout": "IPY_MODEL_ee096a55492347aa8f74b0fc34e8dafd",
       "style": "IPY_MODEL_29a855552adb4333b3f2777334c50a47",
       "tooltip": null
      }
     },
     "c203cce3f9af423f930e8f0b92c13b7f": {
      "model_module": "@jupyter-widgets/controls",
      "model_module_version": "1.5.0",
      "model_name": "DescriptionStyleModel",
      "state": {
       "description_width": ""
      }
     },
     "c261a6c70faa444fb9440d91ab1cda2f": {
      "model_module": "@jupyter-widgets/base",
      "model_module_version": "1.2.0",
      "model_name": "LayoutModel",
      "state": {}
     },
     "c3d0ba51634b4c019fa181f7552b0826": {
      "model_module": "@jupyter-widgets/controls",
      "model_module_version": "1.5.0",
      "model_name": "ButtonStyleModel",
      "state": {}
     },
     "c4c94bde6ab9478d869b7f9f0107fb81": {
      "model_module": "@jupyter-widgets/base",
      "model_module_version": "1.2.0",
      "model_name": "LayoutModel",
      "state": {}
     },
     "c52d42100ba048b08b78a70534ccf0ef": {
      "model_module": "@jupyter-widgets/base",
      "model_module_version": "1.2.0",
      "model_name": "LayoutModel",
      "state": {}
     },
     "c57a2d5aec4b48128e9ee5d7161350ef": {
      "model_module": "@jupyter-widgets/base",
      "model_module_version": "1.2.0",
      "model_name": "LayoutModel",
      "state": {
       "width": "250px"
      }
     },
     "c67e0e455488433283d3b650221e6eb5": {
      "model_module": "@jupyter-widgets/controls",
      "model_module_version": "1.5.0",
      "model_name": "DropBoxModel",
      "state": {
       "child": "IPY_MODEL_a5f94f440d4c44c0ad96a8ca7152e32f",
       "drag_data": {},
       "draggable": false,
       "layout": "IPY_MODEL_bf658905d8c4414d820cabde18e6b671"
      }
     },
     "c6fb5bdbf27442809c861dc4d35ce86e": {
      "model_module": "@jupyter-widgets/controls",
      "model_module_version": "1.5.0",
      "model_name": "DropBoxModel",
      "state": {
       "child": "IPY_MODEL_a5f2528ec8e54dad96897ec23f2cbfb7",
       "drag_data": {},
       "draggable": false,
       "layout": "IPY_MODEL_9d7c9cb849c846368107c0b22956b914"
      }
     },
     "c8c8fac1895b47ef994f9ab77be4da3a": {
      "model_module": "@jupyter-widgets/controls",
      "model_module_version": "1.5.0",
      "model_name": "DropBoxModel",
      "state": {
       "child": "IPY_MODEL_7df66a2241d44d2bbcb8f75f964c7435",
       "drag_data": {},
       "draggable": false,
       "layout": "IPY_MODEL_d718399a43ae431aaf0abe41fcedebd2"
      }
     },
     "c9c76a7699b940d196fe7c76931b9a75": {
      "model_module": "@jupyter-widgets/controls",
      "model_module_version": "1.5.0",
      "model_name": "LabelModel",
      "state": {
       "layout": "IPY_MODEL_b1b08d5973d14c589dcd61eeec9de0f3",
       "style": "IPY_MODEL_d5716f7e913143fab100926a33b6490c",
       "value": "Drop here!"
      }
     },
     "ca1fc975bc8145d2ace9353fd663ef96": {
      "model_module": "@jupyter-widgets/base",
      "model_module_version": "1.2.0",
      "model_name": "LayoutModel",
      "state": {
       "height": "100px",
       "width": "200px"
      }
     },
     "cd422a1d16a64f2f9b59c9059b3755f4": {
      "model_module": "@jupyter-widgets/controls",
      "model_module_version": "1.5.0",
      "model_name": "LabelModel",
      "state": {
       "layout": "IPY_MODEL_aa0526a29d28474e9e05a5ec1384ddad",
       "style": "IPY_MODEL_375b9b913b954e248a9f656babc7ab56",
       "value": "Drag me"
      }
     },
     "cdde2b2b079d40dca5e18d2fa8680278": {
      "model_module": "@jupyter-widgets/base",
      "model_module_version": "1.2.0",
      "model_name": "LayoutModel",
      "state": {
       "height": "100px",
       "width": "200px"
      }
     },
     "cdf22462d1e74480960134952357681a": {
      "model_module": "@jupyter-widgets/controls",
      "model_module_version": "1.5.0",
      "model_name": "DraggableBoxModel",
      "state": {
       "child": "IPY_MODEL_6c6c450e58d3400e83dcf2e48a2e040e",
       "drag_data": {
        "application/custom-data": "Custom data"
       },
       "layout": "IPY_MODEL_3d1a2abe960c483c8861a77d8b687113"
      }
     },
     "ce84b73534834ca1a3002eaddb338285": {
      "model_module": "@jupyter-widgets/base",
      "model_module_version": "1.2.0",
      "model_name": "LayoutModel",
      "state": {}
     },
     "ce9bb22ec5194cac9b7336b151fd8fd8": {
      "model_module": "@jupyter-widgets/controls",
      "model_module_version": "1.5.0",
      "model_name": "LabelModel",
      "state": {
       "layout": "IPY_MODEL_f8e58efd81e2463a89842ba5fee4a633",
       "style": "IPY_MODEL_0bf6efc35af8474bbf262cb2ee9345ea",
       "value": "Drop sliders below"
      }
     },
     "d0850ed907604611afdf88b06b1181b4": {
      "model_module": "@jupyter-widgets/controls",
      "model_module_version": "1.5.0",
      "model_name": "DropBoxModel",
      "state": {
       "drag_data": {},
       "draggable": false,
       "layout": "IPY_MODEL_d7ad2f0976484a9f9373f2c1e3b1d5ef"
      }
     },
     "d13b397c5a4f42939c70b9f219da8af1": {
      "model_module": "@jupyter-widgets/controls",
      "model_module_version": "1.5.0",
      "model_name": "DropBoxModel",
      "state": {
       "child": "IPY_MODEL_c9c76a7699b940d196fe7c76931b9a75",
       "drag_data": {},
       "draggable": false,
       "layout": "IPY_MODEL_1c3c325df6ce435ab265a6b50e87d2cb"
      }
     },
     "d5716f7e913143fab100926a33b6490c": {
      "model_module": "@jupyter-widgets/controls",
      "model_module_version": "1.5.0",
      "model_name": "DescriptionStyleModel",
      "state": {
       "description_width": ""
      }
     },
     "d5a8e1335d834834968d123020302825": {
      "model_module": "@jupyter-widgets/controls",
      "model_module_version": "1.5.0",
      "model_name": "SliderStyleModel",
      "state": {
       "description_width": ""
      }
     },
     "d6d724e05e0940adb9ccae0ef1510b4c": {
      "model_module": "@jupyter-widgets/base",
      "model_module_version": "1.2.0",
      "model_name": "LayoutModel",
      "state": {}
     },
     "d718399a43ae431aaf0abe41fcedebd2": {
      "model_module": "@jupyter-widgets/base",
      "model_module_version": "1.2.0",
      "model_name": "LayoutModel",
      "state": {}
     },
     "d726c5b070a249bd92808fbd9b7d2b3a": {
      "model_module": "@jupyter-widgets/base",
      "model_module_version": "1.2.0",
      "model_name": "LayoutModel",
      "state": {}
     },
     "d7948db92a4e44ef84fb4ffb3fd50f4f": {
      "model_module": "@jupyter-widgets/base",
      "model_module_version": "1.2.0",
      "model_name": "LayoutModel",
      "state": {}
     },
     "d7ad2f0976484a9f9373f2c1e3b1d5ef": {
      "model_module": "@jupyter-widgets/base",
      "model_module_version": "1.2.0",
      "model_name": "LayoutModel",
      "state": {}
     },
     "d9a19fd2d80b471aa1f42772fe1053f6": {
      "model_module": "@jupyter-widgets/controls",
      "model_module_version": "1.5.0",
      "model_name": "DescriptionStyleModel",
      "state": {
       "description_width": ""
      }
     },
     "d9d624b0496843d9accaa034d93ecf6f": {
      "model_module": "@jupyter-widgets/controls",
      "model_module_version": "1.5.0",
      "model_name": "DraggableBoxModel",
      "state": {
       "child": "IPY_MODEL_2bd57b7fc226482793af9a05007d3bb5",
       "layout": "IPY_MODEL_9ea402faa95a4f28a6e87252960b711f"
      }
     },
     "da82760173d54b04b02de078d103dc3f": {
      "model_module": "@jupyter-widgets/base",
      "model_module_version": "1.2.0",
      "model_name": "LayoutModel",
      "state": {}
     },
     "dca0de8a19244d1cb05026b0da6df0c4": {
      "model_module": "@jupyter-widgets/controls",
      "model_module_version": "1.5.0",
      "model_name": "DraggableBoxModel",
      "state": {
       "child": "IPY_MODEL_ad7fce8a39ec42589918c35f7ef740ad",
       "layout": "IPY_MODEL_818cae7ed0dc454db50f9d65f4696406"
      }
     },
     "dddc110d648f4bb0830cf0d79313e950": {
      "model_module": "@jupyter-widgets/controls",
      "model_module_version": "1.5.0",
      "model_name": "DropBoxModel",
      "state": {
       "child": "IPY_MODEL_55852d57ed01420a90d03defb5b80ddf",
       "drag_data": {},
       "draggable": false,
       "layout": "IPY_MODEL_0646474e267545ae929372bea69640d9"
      }
     },
     "de4740c4eddb440dadb78720f85e7246": {
      "model_module": "@jupyter-widgets/controls",
      "model_module_version": "1.5.0",
      "model_name": "DescriptionStyleModel",
      "state": {
       "description_width": ""
      }
     },
     "def551658e04412fa41b34f0b0e84b76": {
      "model_module": "@jupyter-widgets/controls",
      "model_module_version": "1.5.0",
      "model_name": "DropBoxModel",
      "state": {
       "child": "IPY_MODEL_6806c14c7fcc41aead90bc954eb634bf",
       "drag_data": {},
       "draggable": false,
       "layout": "IPY_MODEL_da82760173d54b04b02de078d103dc3f"
      }
     },
     "def9da24a8f14aa7a4b3f56356dfb005": {
      "model_module": "@jupyter-widgets/controls",
      "model_module_version": "1.5.0",
      "model_name": "DropBoxModel",
      "state": {
       "child": "IPY_MODEL_efe0f588ceb044da9200768f0cdd4d9c",
       "drag_data": {},
       "draggable": false,
       "layout": "IPY_MODEL_bb577dc5d82f47ad97cbbc1601c0244d"
      }
     },
     "e13ad1ce4299443c88dda411424dc323": {
      "model_module": "@jupyter-widgets/controls",
      "model_module_version": "1.5.0",
      "model_name": "DraggableBoxModel",
      "state": {
       "child": "IPY_MODEL_33ecd741fcf84d74936b52d5e3c74796",
       "drag_data": {
        "application/custom-data": "Custom data"
       },
       "layout": "IPY_MODEL_ee5e9e2054204687ad73e487d3ef3991"
      }
     },
     "e157071e3ebb45d8a42b2034133d38db": {
      "model_module": "@jupyter-widgets/controls",
      "model_module_version": "1.5.0",
      "model_name": "DropBoxModel",
      "state": {
       "child": "IPY_MODEL_8331799833cf4d84b5d5b92d72ea8749",
       "drag_data": {},
       "draggable": false,
       "layout": "IPY_MODEL_0c05677ab3ea432fb6cc2742f3cad5f4"
      }
     },
     "e3a0cf233b534ce89f72dd8a658d4178": {
      "model_module": "@jupyter-widgets/controls",
      "model_module_version": "1.5.0",
      "model_name": "LabelModel",
      "state": {
       "layout": "IPY_MODEL_ce84b73534834ca1a3002eaddb338285",
       "style": "IPY_MODEL_1929bcc7a23745dc9b4ceacc8457f69d",
       "value": "Drag me"
      }
     },
     "e94cd82d97734de682f0147639096eed": {
      "model_module": "@jupyter-widgets/controls",
      "model_module_version": "1.5.0",
      "model_name": "DraggableBoxModel",
      "state": {
       "child": "IPY_MODEL_82f635570dd94de18e9eae127e48b210",
       "layout": "IPY_MODEL_afe327aa88df4f81bd8d2e60120cc24e"
      }
     },
     "e98ff07c8f274a3ab99d6c8db4c03204": {
      "model_module": "@jupyter-widgets/controls",
      "model_module_version": "1.5.0",
      "model_name": "DescriptionStyleModel",
      "state": {
       "description_width": ""
      }
     },
     "ee096a55492347aa8f74b0fc34e8dafd": {
      "model_module": "@jupyter-widgets/base",
      "model_module_version": "1.2.0",
      "model_name": "LayoutModel",
      "state": {}
     },
     "ee5e9e2054204687ad73e487d3ef3991": {
      "model_module": "@jupyter-widgets/base",
      "model_module_version": "1.2.0",
      "model_name": "LayoutModel",
      "state": {}
     },
     "ee81db3588314a3a84aaf832308a759e": {
      "model_module": "@jupyter-widgets/base",
      "model_module_version": "1.2.0",
      "model_name": "LayoutModel",
      "state": {}
     },
     "efe0f588ceb044da9200768f0cdd4d9c": {
      "model_module": "@jupyter-widgets/controls",
      "model_module_version": "1.5.0",
      "model_name": "VBoxModel",
      "state": {
       "children": [
        "IPY_MODEL_9524922c374f482ea7409e32b0425443"
       ],
       "layout": "IPY_MODEL_2698fdccadf44090a30a3bde39403c96"
      }
     },
     "f02c2d2c316141cd873c8279924c8cb6": {
      "model_module": "@jupyter-widgets/controls",
      "model_module_version": "1.5.0",
      "model_name": "ButtonStyleModel",
      "state": {}
     },
     "f34aa5b3ba22424d8a4a76997e11ae7b": {
      "model_module": "@jupyter-widgets/controls",
      "model_module_version": "1.5.0",
      "model_name": "DropBoxModel",
      "state": {
       "child": "IPY_MODEL_31e14d2173c14bc592a149d8d59fdc18",
       "drag_data": {},
       "draggable": false,
       "layout": "IPY_MODEL_cdde2b2b079d40dca5e18d2fa8680278"
      }
     },
     "f41cb659c080431e85300cc0c9340159": {
      "model_module": "@jupyter-widgets/controls",
      "model_module_version": "1.5.0",
      "model_name": "ButtonStyleModel",
      "state": {}
     },
     "f83edd922a6b410aab9ad1594bd407d8": {
      "model_module": "@jupyter-widgets/controls",
      "model_module_version": "1.5.0",
      "model_name": "DropBoxModel",
      "state": {
       "child": "IPY_MODEL_9421276e962248d4a2ba5b00f3b4a081",
       "drag_data": {},
       "draggable": false,
       "layout": "IPY_MODEL_a881b3eadd3c4597bc23183506a27910"
      }
     },
     "f8670ff8d7db4315b4f6f43c18377e7d": {
      "model_module": "@jupyter-widgets/base",
      "model_module_version": "1.2.0",
      "model_name": "LayoutModel",
      "state": {}
     },
     "f8e58efd81e2463a89842ba5fee4a633": {
      "model_module": "@jupyter-widgets/base",
      "model_module_version": "1.2.0",
      "model_name": "LayoutModel",
      "state": {}
     },
     "fb513e93534d486e98cf512b6afb2213": {
      "model_module": "@jupyter-widgets/controls",
      "model_module_version": "1.5.0",
      "model_name": "LabelModel",
      "state": {
       "layout": "IPY_MODEL_6c436adce00445f282a501825b8b6e0c",
       "style": "IPY_MODEL_6825c2b6711446088b443f059bd2e1cd",
       "value": "Drag me"
      }
     },
     "fc126a7617e44f71a95768bf99ee6dce": {
      "model_module": "@jupyter-widgets/controls",
      "model_module_version": "1.5.0",
      "model_name": "DescriptionStyleModel",
      "state": {
       "description_width": ""
      }
     },
     "fdccb407b7254520992d25f4420b7852": {
      "model_module": "@jupyter-widgets/controls",
      "model_module_version": "1.5.0",
      "model_name": "DropBoxModel",
      "state": {
       "child": "IPY_MODEL_90c4745919884028900153e15d57581b",
       "drag_data": {},
       "draggable": false,
       "layout": "IPY_MODEL_d7948db92a4e44ef84fb4ffb3fd50f4f"
      }
     },
     "fdf81136b53f4c099f95b0f6cd08f01d": {
      "model_module": "@jupyter-widgets/base",
      "model_module_version": "1.2.0",
      "model_name": "LayoutModel",
      "state": {}
     },
     "ff22e6c42aef43ee91bd236ad37d4821": {
      "model_module": "@jupyter-widgets/base",
      "model_module_version": "1.2.0",
      "model_name": "LayoutModel",
      "state": {}
     }
    },
    "version_major": 2,
    "version_minor": 0
   }
  }
 },
 "nbformat": 4,
 "nbformat_minor": 4
}
