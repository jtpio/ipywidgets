{
 "cells": [
  {
   "cell_type": "markdown",
   "metadata": {},
   "source": [
    "## Draggable Label"
   ]
  },
  {
   "cell_type": "markdown",
   "metadata": {},
   "source": [
    "`DraggableLabel` is a label that can be dragged and dropped to other fields."
   ]
  },
  {
   "cell_type": "code",
   "execution_count": 1,
   "metadata": {},
   "outputs": [],
   "source": [
    "from ipywidgets import Label, DraggableBox, DropBox, Textarea, VBox"
   ]
  },
  {
   "cell_type": "code",
   "execution_count": 2,
   "metadata": {},
   "outputs": [],
   "source": [
    "def set_drag_data(box):\n",
    "    box.drag_data['text/plain'] = box.children[0].value\n",
    "\n",
    "def DraggableLabel(value, draggable=True):\n",
    "    box = DraggableBox(Label(value))\n",
    "    box.draggable = draggable\n",
    "    return box"
   ]
  },
  {
   "cell_type": "code",
   "execution_count": 3,
   "metadata": {},
   "outputs": [
    {
     "data": {
      "application/vnd.jupyter.widget-view+json": {
       "model_id": "6896e0ce7c2c45eba979b66324e66fd4",
       "version_major": 2,
       "version_minor": 0
      },
      "text/plain": [
       "DraggableBox(child=Label(value='Hello Drag'))"
      ]
     },
     "execution_count": 3,
     "metadata": {},
     "output_type": "execute_result"
    }
   ],
   "source": [
    "DraggableLabel(\"Hello Drag\")"
   ]
  },
  {
   "cell_type": "markdown",
   "metadata": {},
   "source": [
    "You can drag this label anywhere (could be your shell etc.), but also to a text area:"
   ]
  },
  {
   "cell_type": "code",
   "execution_count": 4,
   "metadata": {},
   "outputs": [
    {
     "data": {
      "application/vnd.jupyter.widget-view+json": {
       "model_id": "edf71ec1941b42689dd9fce2a23e5b50",
       "version_major": 2,
       "version_minor": 0
      },
      "text/plain": [
       "Textarea(value='')"
      ]
     },
     "execution_count": 4,
     "metadata": {},
     "output_type": "execute_result"
    }
   ],
   "source": [
    "Textarea()"
   ]
  },
  {
   "cell_type": "markdown",
   "metadata": {},
   "source": [
    "## `on_drop` handler"
   ]
  },
  {
   "cell_type": "markdown",
   "metadata": {},
   "source": [
    "`DraggableLabel` can also become the drop zone (you can drop other stuff on it), if you implement the `on_drop` handler."
   ]
  },
  {
   "cell_type": "code",
   "execution_count": 5,
   "metadata": {},
   "outputs": [
    {
     "data": {
      "application/vnd.jupyter.widget-view+json": {
       "model_id": "00377f9a4fff4a569fc8f5b182feeb4f",
       "version_major": 2,
       "version_minor": 0
      },
      "text/plain": [
       "DraggableBox(child=Label(value='Drag me'))"
      ]
     },
     "execution_count": 5,
     "metadata": {},
     "output_type": "execute_result"
    }
   ],
   "source": [
    "l1 = DraggableLabel(\"Drag me\")\n",
    "l1"
   ]
  },
  {
   "cell_type": "markdown",
   "metadata": {},
   "source": [
    "Now, drag this label on the label below."
   ]
  },
  {
   "cell_type": "code",
   "execution_count": 6,
   "metadata": {},
   "outputs": [
    {
     "data": {
      "application/vnd.jupyter.widget-view+json": {
       "model_id": "0ad018fb4d044d86a497c783ce6aad58",
       "version_major": 2,
       "version_minor": 0
      },
      "text/plain": [
       "DropBox(child=Label(value='Drop on me'))"
      ]
     },
     "execution_count": 6,
     "metadata": {},
     "output_type": "execute_result"
    }
   ],
   "source": [
    "l2 = DropBox(Label(\"Drop on me\"))\n",
    "def on_drop_handler(widget, data):\n",
    "    \"\"\"\"Arguments:\n",
    "    \n",
    "    widget : widget class\n",
    "        widget on which something was dropped\n",
    "        \n",
    "    data : dict\n",
    "        extra data sent from the dragged widget\"\"\"\n",
    "    print(data)\n",
    "    text = data['text/plain']\n",
    "    widget.child.value = \"congrats, you dropped '{}'\".format(text)\n",
    "\n",
    "l2.on_drop(on_drop_handler)\n",
    "l2"
   ]
  },
  {
   "cell_type": "markdown",
   "metadata": {},
   "source": [
    "**Note** : You can also drop other stuff (like files, images, links, selections, etc). Try it out!"
   ]
  },
  {
   "cell_type": "markdown",
   "metadata": {},
   "source": [
    "## Changing any widget into a drop zone with arbitrary drop operations"
   ]
  },
  {
   "cell_type": "markdown",
   "metadata": {},
   "source": [
    "If you have more specific needs for the drop behaviour you can also use DropBox widgets, which implements `on_drop` handlers."
   ]
  },
  {
   "cell_type": "markdown",
   "metadata": {},
   "source": [
    "This DropBox will replace elements with text of the dropped element (works also for stuff which is not widget):"
   ]
  },
  {
   "cell_type": "code",
   "execution_count": 7,
   "metadata": {},
   "outputs": [
    {
     "data": {
      "application/vnd.jupyter.widget-view+json": {
       "model_id": "a464a8dcb26f4f35b8f2fc2f7b1bc72b",
       "version_major": 2,
       "version_minor": 0
      },
      "text/plain": [
       "DraggableBox(child=Label(value='Drag me'))"
      ]
     },
     "execution_count": 7,
     "metadata": {},
     "output_type": "execute_result"
    }
   ],
   "source": [
    "from ipywidgets import DropBox, Layout, Button\n",
    "\n",
    "label = DraggableLabel(\"Drag me\", draggable=True)\n",
    "label"
   ]
  },
  {
   "cell_type": "markdown",
   "metadata": {},
   "source": [
    "or **Select and drag me!**"
   ]
  },
  {
   "cell_type": "code",
   "execution_count": 8,
   "metadata": {},
   "outputs": [
    {
     "data": {
      "application/vnd.jupyter.widget-view+json": {
       "model_id": "3add439ef5dc445ebd4396c4baab35c0",
       "version_major": 2,
       "version_minor": 0
      },
      "text/plain": [
       "DropBox(child=Label(value='Drop here!'), layout=Layout(height='100px', width='200px'))"
      ]
     },
     "execution_count": 8,
     "metadata": {},
     "output_type": "execute_result"
    }
   ],
   "source": [
    "box = DropBox(Label(\"Drop here!\"),\n",
    "              layout=Layout(width='200px', height='100px'))\n",
    "def on_drop(widget, data):\n",
    "    text = data['text/plain']\n",
    "    widget.child = Button(description=text.upper())\n",
    "\n",
    "box.on_drop(on_drop)\n",
    "box"
   ]
  },
  {
   "cell_type": "markdown",
   "metadata": {},
   "source": [
    "## Adding widgets to container with a handler"
   ]
  },
  {
   "cell_type": "markdown",
   "metadata": {},
   "source": [
    "You can also reproduce the Box example (adding elements to Box container) using `DropBox` with a custom handler:"
   ]
  },
  {
   "cell_type": "code",
   "execution_count": 9,
   "metadata": {},
   "outputs": [
    {
     "data": {
      "application/vnd.jupyter.widget-view+json": {
       "model_id": "cf06f23b238246a5bca43e9efbd3969f",
       "version_major": 2,
       "version_minor": 0
      },
      "text/plain": [
       "DraggableBox(child=Label(value='Drag me'))"
      ]
     },
     "execution_count": 9,
     "metadata": {},
     "output_type": "execute_result"
    }
   ],
   "source": [
    "from ipywidgets import DropBox, Layout, Label\n",
    "\n",
    "label = DraggableLabel(\"Drag me\", draggable=True)\n",
    "label"
   ]
  },
  {
   "cell_type": "code",
   "execution_count": 10,
   "metadata": {},
   "outputs": [
    {
     "data": {
      "application/vnd.jupyter.widget-view+json": {
       "model_id": "99a339fdfcb840ce8bb89d3983bb850e",
       "version_major": 2,
       "version_minor": 0
      },
      "text/plain": [
       "DropBox(child=VBox(children=(Label(value='Drop here'),)), layout=Layout(height='100px', width='200px'))"
      ]
     },
     "execution_count": 10,
     "metadata": {},
     "output_type": "execute_result"
    }
   ],
   "source": [
    "box = DropBox(VBox([Label('Drop here')]), \n",
    "              layout=Layout(width='200px', height='100px'))\n",
    "\n",
    "def on_drop(widget, data):\n",
    "    source = data['widget']\n",
    "    widget.child.children += (source, )\n",
    "\n",
    "box.on_drop(on_drop)\n",
    "box"
   ]
  },
  {
   "cell_type": "markdown",
   "metadata": {},
   "source": [
    "**Explanation**: Label widget sets data on the drop event of type `application/x-widget` that contains the widget id of the dragged widget."
   ]
  },
  {
   "cell_type": "markdown",
   "metadata": {},
   "source": [
    "## Setting custom data on the drop event"
   ]
  },
  {
   "cell_type": "markdown",
   "metadata": {},
   "source": [
    "You can also set custom data on `DraggableLabel` that can be retrieved and used in `on_drop` event."
   ]
  },
  {
   "cell_type": "code",
   "execution_count": 11,
   "metadata": {
    "scrolled": true
   },
   "outputs": [
    {
     "data": {
      "application/vnd.jupyter.widget-view+json": {
       "model_id": "12d345015505449fa46bd8f0d94e3ee4",
       "version_major": 2,
       "version_minor": 0
      },
      "text/plain": [
       "DraggableBox(child=Label(value='Drag me'), drag_data={'application/custom-data': 'Custom data'})"
      ]
     },
     "execution_count": 11,
     "metadata": {},
     "output_type": "execute_result"
    }
   ],
   "source": [
    "l = DraggableLabel(\"Drag me\", draggable=True)\n",
    "l.drag_data = {'application/custom-data' : 'Custom data'}\n",
    "l"
   ]
  },
  {
   "cell_type": "code",
   "execution_count": 12,
   "metadata": {},
   "outputs": [
    {
     "data": {
      "application/vnd.jupyter.widget-view+json": {
       "model_id": "363dde86b16d4bba82071dca3b40d031",
       "version_major": 2,
       "version_minor": 0
      },
      "text/plain": [
       "DropBox(child=Label(value='Drop here'))"
      ]
     },
     "execution_count": 12,
     "metadata": {},
     "output_type": "execute_result"
    }
   ],
   "source": [
    "l2 = DropBox(Label(\"Drop here\"))\n",
    "\n",
    "def on_drop_handler(widget, data):\n",
    "    \"\"\"\"Arguments:\n",
    "    \n",
    "    widget : widget class\n",
    "        widget on which something was dropped\n",
    "        \n",
    "    data : dict\n",
    "        extra data sent from the dragged widget\"\"\"\n",
    "    \n",
    "    text = data['text/plain']\n",
    "    widget_id = data['widget'].model_id\n",
    "    custom_data = data['application/custom-data']\n",
    "    widget.child.value = (\"you dropped widget ID '{}...' \"\n",
    "                    \"with text '{}' and custom data '{}'\"\n",
    "                   ).format(widget_id[:5], text,  custom_data)\n",
    "\n",
    "l2.on_drop(on_drop_handler)\n",
    "l2"
   ]
  },
  {
   "cell_type": "markdown",
   "metadata": {},
   "source": [
    "## Making any widget draggable"
   ]
  },
  {
   "cell_type": "markdown",
   "metadata": {},
   "source": [
    "`DraggableBox` can be used to wrap any widget so that it can be dragged and dropped."
   ]
  },
  {
   "cell_type": "code",
   "execution_count": 13,
   "metadata": {},
   "outputs": [],
   "source": [
    "from ipywidgets import DraggableBox, Button, VBox, Layout, IntSlider, Label"
   ]
  },
  {
   "cell_type": "code",
   "execution_count": 14,
   "metadata": {},
   "outputs": [
    {
     "data": {
      "application/vnd.jupyter.widget-view+json": {
       "model_id": "0a020e62261b4e8faa82c7462207673f",
       "version_major": 2,
       "version_minor": 0
      },
      "text/plain": [
       "DraggableBox(child=IntSlider(value=0, description='Drag me', layout=Layout(width='250px')))"
      ]
     },
     "execution_count": 14,
     "metadata": {},
     "output_type": "execute_result"
    }
   ],
   "source": [
    "slider = IntSlider(layout=Layout(width='250px'), description='Drag me')\n",
    "box = DraggableBox(slider, draggable=True)\n",
    "box"
   ]
  },
  {
   "cell_type": "code",
   "execution_count": 15,
   "metadata": {},
   "outputs": [
    {
     "data": {
      "text/plain": [
       "{}"
      ]
     },
     "execution_count": 15,
     "metadata": {},
     "output_type": "execute_result"
    }
   ],
   "source": [
    "box.drag_data"
   ]
  },
  {
   "cell_type": "code",
   "execution_count": 16,
   "metadata": {},
   "outputs": [],
   "source": [
    "def on_drop(*args):\n",
    "    print(*args)\n",
    "\n",
    "def attach_to_box(box, widget):\n",
    "    box.children += (widget, )"
   ]
  },
  {
   "cell_type": "code",
   "execution_count": 17,
   "metadata": {},
   "outputs": [
    {
     "data": {
      "application/vnd.jupyter.widget-view+json": {
       "model_id": "2848da3c852d42ae894fe9f318666951",
       "version_major": 2,
       "version_minor": 0
      },
      "text/plain": [
       "DropBox(child=VBox(children=(Label(value='Drop sliders below'),), layout=Layout(height='150px', width='350px')…"
      ]
     },
     "execution_count": 17,
     "metadata": {},
     "output_type": "execute_result"
    }
   ],
   "source": [
    "vdropbox = DropBox(VBox([Label('Drop sliders below')], layout=Layout(width='350px', height='150px')))\n",
    "# vdropbox.on_drop(lambda *args: attach_to_box(vdropbox.child, args[1]['widget']))\n",
    "vdropbox.on_drop(on_drop)\n",
    "vdropbox"
   ]
  },
  {
   "cell_type": "markdown",
   "metadata": {},
   "source": [
    "## `on_dragenter` and `on_dragleave` handlers"
   ]
  },
  {
   "cell_type": "code",
   "execution_count": 18,
   "metadata": {},
   "outputs": [
    {
     "data": {
      "application/vnd.jupyter.widget-view+json": {
       "model_id": "04a1b3f08e694351b0a8e126b9633697",
       "version_major": 2,
       "version_minor": 0
      },
      "text/plain": [
       "DraggableBox(child=Button(button_style='info', description='Drag me', style=ButtonStyle()))"
      ]
     },
     "execution_count": 18,
     "metadata": {},
     "output_type": "execute_result"
    }
   ],
   "source": [
    "button = Button(description=\"Drag me\", button_style='info')\n",
    "DraggableBox(button, draggable=True)"
   ]
  },
  {
   "cell_type": "code",
   "execution_count": 19,
   "metadata": {},
   "outputs": [
    {
     "data": {
      "application/vnd.jupyter.widget-view+json": {
       "model_id": "e99e419d436143d49bd77ccce8e5f0b2",
       "version_major": 2,
       "version_minor": 0
      },
      "text/plain": [
       "DraggableBox(child=Button(button_style='warning', description='Drag me', style=ButtonStyle()))"
      ]
     },
     "execution_count": 19,
     "metadata": {},
     "output_type": "execute_result"
    }
   ],
   "source": [
    "button2 = Button(description=\"Drag me\", button_style='warning')\n",
    "DraggableBox(button2, draggable=True)"
   ]
  },
  {
   "cell_type": "markdown",
   "metadata": {},
   "source": [
    "Now, drag this button on the label below."
   ]
  },
  {
   "cell_type": "code",
   "execution_count": 22,
   "metadata": {},
   "outputs": [
    {
     "data": {
      "application/vnd.jupyter.widget-view+json": {
       "model_id": "2131f8efe8f04acbbad119df30a4da63",
       "version_major": 2,
       "version_minor": 0
      },
      "text/plain": [
       "DropBox(child=None)"
      ]
     },
     "execution_count": 22,
     "metadata": {},
     "output_type": "execute_result"
    }
   ],
   "source": [
    "label = \"Hover on me\"\n",
    "l4 = DropBox(style={'background_color':\"red\"})\n",
    "\n",
    "def on_dragenter_handler(widget):\n",
    "    print(\"ENTER\")\n",
    "    l4.child.button_style = \"success\"\n",
    "    \n",
    "\n",
    "def on_dragleave_handler(widget):\n",
    "    print(\"LEAVE\")\n",
    "    l4.child.button_style = \"danger\"\n",
    "\n",
    "\n",
    "l4.on_dragenter(on_dragenter_handler)\n",
    "l4.on_dragleave(on_dragleave_handler)\n",
    "l4"
   ]
  },
  {
   "cell_type": "markdown",
   "metadata": {},
   "source": [
    "## Draggable data columns"
   ]
  },
  {
   "cell_type": "markdown",
   "metadata": {},
   "source": [
    "This implements a more complex example.\n",
    "\n",
    "**Note**: You need to have bqplot installed for this example to work."
   ]
  },
  {
   "cell_type": "code",
   "execution_count": null,
   "metadata": {},
   "outputs": [],
   "source": [
    "import bqplot.pyplot as plt\n",
    "from ipywidgets import Label, GridspecLayout, DropBox, Layout\n",
    "import json"
   ]
  },
  {
   "cell_type": "code",
   "execution_count": null,
   "metadata": {},
   "outputs": [],
   "source": [
    "def create_table(data):\n",
    "    n_cols = len(data)\n",
    "    n_rows = max(len(column) for column in data.values())\n",
    "    grid = GridspecLayout(n_rows+1, n_cols)\n",
    "    columnames = list(data.keys())\n",
    "    for i in range(n_cols):\n",
    "        column = columnames[i]\n",
    "        data_json = json.dumps(data[column])\n",
    "        grid[0, i] = DraggableLabel(columnames[i], draggable=True)\n",
    "        grid[0, i].draggable = True\n",
    "        grid[0, i].drag_data = {'data/app' : data_json}\n",
    "        for j in range(n_rows):\n",
    "            grid[j+1, i] = DraggableLabel(str(data[column][j]), draggable=True)\n",
    "            grid[j+1, i].drag_data = {'data/app' : data_json}\n",
    "    return grid"
   ]
  },
  {
   "cell_type": "code",
   "execution_count": null,
   "metadata": {},
   "outputs": [],
   "source": [
    "box = DropBox(Label(\"Drag data from the table and drop it here.\"), layout=Layout(height='500px', width='800px'))\n",
    "def box_ondrop(widget, data):\n",
    "    fig = plt.figure()\n",
    "    y = json.loads(data['data/app'])\n",
    "    plt.plot(y)\n",
    "    widget.child = fig\n",
    "box.on_drop(box_ondrop)"
   ]
  },
  {
   "cell_type": "code",
   "execution_count": null,
   "metadata": {},
   "outputs": [],
   "source": [
    "plot_data = {\n",
    "    'col1': [ 4, 2,  1],\n",
    "    'col2': [ 1, 3,  4],\n",
    "    'col3': [-1, 2, -3]\n",
    "}\n",
    "create_table(plot_data)"
   ]
  },
  {
   "cell_type": "markdown",
   "metadata": {},
   "source": [
    "You can drag the data by the labels or values (the whole column will be dragged)."
   ]
  },
  {
   "cell_type": "code",
   "execution_count": null,
   "metadata": {},
   "outputs": [],
   "source": [
    "box"
   ]
  },
  {
   "cell_type": "markdown",
   "metadata": {},
   "source": [
    "## Plot builder"
   ]
  },
  {
   "cell_type": "markdown",
   "metadata": {},
   "source": [
    "Here is another example allowing to build plots from a list of labels."
   ]
  },
  {
   "cell_type": "code",
   "execution_count": 17,
   "metadata": {},
   "outputs": [
    {
     "ename": "ModuleNotFoundError",
     "evalue": "No module named 'bqplot'",
     "output_type": "error",
     "traceback": [
      "\u001b[0;31m---------------------------------------------------------------------------\u001b[0m",
      "\u001b[0;31mModuleNotFoundError\u001b[0m                       Traceback (most recent call last)",
      "\u001b[0;32m<ipython-input-17-38f8cb3cd05f>\u001b[0m in \u001b[0;36m<module>\u001b[0;34m\u001b[0m\n\u001b[1;32m      1\u001b[0m \u001b[0;32mfrom\u001b[0m \u001b[0mipywidgets\u001b[0m \u001b[0;32mimport\u001b[0m \u001b[0mSelectMultiple\u001b[0m\u001b[0;34m,\u001b[0m \u001b[0mLayout\u001b[0m\u001b[0;34m,\u001b[0m \u001b[0mDraggableBox\u001b[0m\u001b[0;34m,\u001b[0m \u001b[0mDropBox\u001b[0m\u001b[0;34m,\u001b[0m \u001b[0mHBox\u001b[0m\u001b[0;34m\u001b[0m\u001b[0;34m\u001b[0m\u001b[0m\n\u001b[0;32m----> 2\u001b[0;31m \u001b[0;32mimport\u001b[0m \u001b[0mbqplot\u001b[0m \u001b[0;32mas\u001b[0m \u001b[0mbq\u001b[0m\u001b[0;34m\u001b[0m\u001b[0;34m\u001b[0m\u001b[0m\n\u001b[0m\u001b[1;32m      3\u001b[0m \u001b[0;34m\u001b[0m\u001b[0m\n\u001b[1;32m      4\u001b[0m select_list = SelectMultiple(\n\u001b[1;32m      5\u001b[0m     \u001b[0moptions\u001b[0m\u001b[0;34m=\u001b[0m\u001b[0;34m[\u001b[0m\u001b[0;34m'Apples'\u001b[0m\u001b[0;34m,\u001b[0m \u001b[0;34m'Oranges'\u001b[0m\u001b[0;34m,\u001b[0m \u001b[0;34m'Pears'\u001b[0m\u001b[0;34m]\u001b[0m\u001b[0;34m,\u001b[0m\u001b[0;34m\u001b[0m\u001b[0;34m\u001b[0m\u001b[0m\n",
      "\u001b[0;31mModuleNotFoundError\u001b[0m: No module named 'bqplot'"
     ]
    }
   ],
   "source": [
    "from ipywidgets import SelectMultiple, Layout, DraggableBox, DropBox, HBox\n",
    "import bqplot as bq\n",
    "\n",
    "select_list = SelectMultiple(\n",
    "    options=['Apples', 'Oranges', 'Pears'],\n",
    "    value=['Oranges'],\n",
    "    description='Fruits',\n",
    "    disabled=False\n",
    ")\n",
    "select_box = DraggableBox(select_list, draggable=True)\n",
    "\n",
    "fruits = {'Apples' : 5,\n",
    "          'Oranges' : 1,\n",
    "          'Pears': 3}\n",
    "\n",
    "\n",
    "fig = bq.Figure(marks=[], fig_margin = dict(left=50, right=0, top=0, bottom=70))\n",
    "fig.layout.height='300px'\n",
    "fig.layout.width='300px'\n",
    "fig_box = DropBox(fig)\n",
    "\n",
    "fig2 = bq.Figure(marks=[], fig_margin = dict(left=50, right=0, top=0, bottom=70))\n",
    "fig2.layout.height='300px'\n",
    "fig2.layout.width='300px'\n",
    "fig2_box = DropBox(fig2)\n",
    "\n",
    "def on_fig_drop(widget, data):\n",
    "    \n",
    "    # get the figure widget\n",
    "    fig = widget.child\n",
    "    #get the selection widget\n",
    "    selection_widget = data['widget'].child\n",
    "    \n",
    "    # get the selected fruits and prices\n",
    "    selected = selection_widget.value\n",
    "    prices = [fruits[f] for f in selected]\n",
    "    \n",
    "    sc_x = bq.OrdinalScale()\n",
    "    sc_y = bq.LinearScale()\n",
    "\n",
    "    ax_x = bq.Axis(scale=sc_x)\n",
    "    ax_y = bq.Axis(scale=sc_y, orientation='vertical')\n",
    "    bars = bq.Bars(x=selected, y=prices, scales={'x' : sc_x, 'y' : sc_y })\n",
    "    fig.axes = [ax_x, ax_y]\n",
    "    fig.marks = [bars]\n",
    "\n",
    "fig_box.on_drop(on_fig_drop)\n",
    "fig2_box.on_drop(on_fig_drop)"
   ]
  },
  {
   "cell_type": "markdown",
   "metadata": {},
   "source": [
    "Select and drag fruits from the list to the boxes on the right. It's better to drag the selection using the \"Fruits\" label, due to a smalll glitch in the selection widget."
   ]
  },
  {
   "cell_type": "code",
   "execution_count": null,
   "metadata": {},
   "outputs": [],
   "source": [
    "HBox([select_box,\n",
    "      fig_box,\n",
    "      fig2_box])"
   ]
  },
  {
   "cell_type": "markdown",
   "metadata": {},
   "source": [
    "## Dashboard builder\n",
    "\n",
    "The drag and drop widgets can also be used to build a dashboard interactively.\n",
    "\n",
    "First let's define the structure of the dashboard by using the `AppLayout` layout template widget."
   ]
  },
  {
   "cell_type": "code",
   "execution_count": 89,
   "metadata": {},
   "outputs": [],
   "source": [
    "from ipywidgets import AppLayout, Button, DropBox, Layout, VBox"
   ]
  },
  {
   "cell_type": "markdown",
   "metadata": {},
   "source": [
    "Whenever a `DraggableBox` widget is dropped in a `Dropbox`, the content of the `Dropbox` will be replaced by the widget."
   ]
  },
  {
   "cell_type": "code",
   "execution_count": 168,
   "metadata": {},
   "outputs": [],
   "source": [
    "def attach_to_box(box, widget):\n",
    "    box.child = widget\n",
    "\n",
    "\n",
    "def create_expanded_dropbox(button_style):\n",
    "    box = DropBox(Button(description='Drop widget here', button_style=button_style, layout=Layout(width='100%', height='100%')))\n",
    "    box.on_drop(lambda *args: attach_to_box(box, args[1]['widget']))\n",
    "    return box"
   ]
  },
  {
   "cell_type": "markdown",
   "metadata": {},
   "source": [
    "Lets' create the app layout:"
   ]
  },
  {
   "cell_type": "code",
   "execution_count": 234,
   "metadata": {},
   "outputs": [],
   "source": [
    "header = create_expanded_dropbox('success')\n",
    "left_sidebar = create_expanded_dropbox('info')\n",
    "center = create_expanded_dropbox('warning')\n",
    "right_sidebar = create_expanded_dropbox('info')\n",
    "footer = create_expanded_dropbox('success')"
   ]
  },
  {
   "cell_type": "code",
   "execution_count": 235,
   "metadata": {},
   "outputs": [
    {
     "data": {
      "application/vnd.jupyter.widget-view+json": {
       "model_id": "",
       "version_major": 2,
       "version_minor": 0
      },
      "text/plain": [
       "AppLayout(children=(DropBox(child=Button(button_style='success', description='Drop widget here', layout=Layout…"
      ]
     },
     "execution_count": 235,
     "metadata": {},
     "output_type": "execute_result"
    }
   ],
   "source": [
    "app = AppLayout(\n",
    "    header=header,\n",
    "    left_sidebar=left_sidebar,\n",
    "    center=center,\n",
    "    right_sidebar=right_sidebar,\n",
    "    footer=footer\n",
    ")\n",
    "app"
   ]
  },
  {
   "cell_type": "markdown",
   "metadata": {},
   "source": [
    "Now let's create the widgets to place in the dashboard."
   ]
  },
  {
   "cell_type": "code",
   "execution_count": 231,
   "metadata": {},
   "outputs": [],
   "source": [
    "from ipywidgets import DraggableBox, Dropdown, IntProgress, IntSlider, Label, Tab, Text, link"
   ]
  },
  {
   "cell_type": "code",
   "execution_count": 222,
   "metadata": {},
   "outputs": [
    {
     "data": {
      "application/vnd.jupyter.widget-view+json": {
       "model_id": "b282609b7b3a44d6ba7637e469bcfe99",
       "version_major": 2,
       "version_minor": 0
      },
      "text/plain": [
       "DraggableBox(child=Label(value='My Custom Dashboard', layout=Layout(display='flex', justify_content='center', …"
      ]
     },
     "execution_count": 222,
     "metadata": {},
     "output_type": "execute_result"
    }
   ],
   "source": [
    "title = Label('My Custom Dashboard', layout=Layout(display='flex', justify_content='center', width='auto'))\n",
    "DraggableBox(title, draggable=True)"
   ]
  },
  {
   "cell_type": "code",
   "execution_count": 223,
   "metadata": {},
   "outputs": [
    {
     "data": {
      "application/vnd.jupyter.widget-view+json": {
       "model_id": "942f43e681eb4dab9327b1323c2b2983",
       "version_major": 2,
       "version_minor": 0
      },
      "text/plain": [
       "DraggableBox(child=IntSlider(value=0, description='Slider', layout=Layout(width='auto'), max=10))"
      ]
     },
     "execution_count": 223,
     "metadata": {},
     "output_type": "execute_result"
    }
   ],
   "source": [
    "slider = IntSlider(min=0, max=10, step=1, layout=Layout(width='auto'), description='Slider')\n",
    "DraggableBox(slider, draggable=True)"
   ]
  },
  {
   "cell_type": "code",
   "execution_count": 224,
   "metadata": {},
   "outputs": [
    {
     "data": {
      "application/vnd.jupyter.widget-view+json": {
       "model_id": "9bf2cf7789154ac2b339a31050b9e49c",
       "version_major": 2,
       "version_minor": 0
      },
      "text/plain": [
       "DraggableBox(child=IntProgress(value=0, description='Loading:', layout=Layout(width='auto'), max=10))"
      ]
     },
     "execution_count": 224,
     "metadata": {},
     "output_type": "execute_result"
    }
   ],
   "source": [
    "progress = IntProgress(\n",
    "    min=0,\n",
    "    max=10,\n",
    "    step=1,\n",
    "    description='Loading:',\n",
    "    orientation='horizontal',\n",
    "    layout=Layout(width='auto')\n",
    ")\n",
    "link((slider, 'value'), (progress, 'value'))\n",
    "DraggableBox(progress, draggable=True)"
   ]
  },
  {
   "cell_type": "code",
   "execution_count": 233,
   "metadata": {},
   "outputs": [
    {
     "data": {
      "application/vnd.jupyter.widget-view+json": {
       "model_id": "6d7f8a05a9154a70be82a4d55f614c2b",
       "version_major": 2,
       "version_minor": 0
      },
      "text/plain": [
       "DraggableBox(child=Tab(children=(Text(value='', description='P0'), Text(value='', description='P1'), Text(valu…"
      ]
     },
     "execution_count": 233,
     "metadata": {},
     "output_type": "execute_result"
    }
   ],
   "source": [
    "tab_contents = ['P0', 'P1', 'P2', 'P3', 'P4']\n",
    "children = [Text(description=name) for name in tab_contents]\n",
    "tab = Tab()\n",
    "tab.children = children\n",
    "for i in range(len(children)):\n",
    "    tab.set_title(i, str(i))\n",
    "DraggableBox(tab, draggable=True)"
   ]
  },
  {
   "cell_type": "markdown",
   "metadata": {},
   "source": [
    "Now let's drag the widgets and drop them in the app layout.\n",
    "\n",
    "In JupyterLab you can open the widget in a different panel by right clicking on the `AppLayout` widget and selecting `Create New View for Output`:\n",
    "\n",
    "![create-new-view-for-output](./images/create-new-view-for-output.png)"
   ]
  }
 ],
 "metadata": {
  "kernelspec": {
   "display_name": "Python 3",
   "language": "python",
   "name": "python3"
  },
  "language_info": {
   "codemirror_mode": {
    "name": "ipython",
    "version": 3
   },
   "file_extension": ".py",
   "mimetype": "text/x-python",
   "name": "python",
   "nbconvert_exporter": "python",
   "pygments_lexer": "ipython3",
   "version": "3.8.1"
  },
  "widgets": {
   "application/vnd.jupyter.widget-state+json": {
    "state": {
     "00377f9a4fff4a569fc8f5b182feeb4f": {
      "model_module": "@jupyter-widgets/controls",
      "model_module_version": "1.5.0",
      "model_name": "DraggableBoxModel",
      "state": {
       "child": "IPY_MODEL_0d5cefaa787648f6b7488c0dfdd3c631",
       "layout": "IPY_MODEL_82ea54d726024f239a08299ecdadb7d9"
      }
     },
     "03dcb955c41746a7bd854c2a058157ec": {
      "model_module": "@jupyter-widgets/base",
      "model_module_version": "1.2.0",
      "model_name": "LayoutModel",
      "state": {}
     },
     "04447a51f0044b098f2a2f6c989f658d": {
      "model_module": "@jupyter-widgets/base",
      "model_module_version": "1.2.0",
      "model_name": "LayoutModel",
      "state": {}
     },
     "04a1b3f08e694351b0a8e126b9633697": {
      "model_module": "@jupyter-widgets/controls",
      "model_module_version": "1.5.0",
      "model_name": "DraggableBoxModel",
      "state": {
       "child": "IPY_MODEL_5d92387bdb0a41709cee6254c8bae940",
       "layout": "IPY_MODEL_759d62d890d54b4897460fa3014c80ed"
      }
     },
     "04b342858ab1413592bd89281ca87151": {
      "model_module": "@jupyter-widgets/base",
      "model_module_version": "1.2.0",
      "model_name": "LayoutModel",
      "state": {}
     },
     "0716fbba051b47b7860b5dd76e544bbe": {
      "model_module": "@jupyter-widgets/controls",
      "model_module_version": "1.5.0",
      "model_name": "DescriptionStyleModel",
      "state": {
       "description_width": ""
      }
     },
     "0798f71abfda4aaea05a819067d54ed7": {
      "model_module": "@jupyter-widgets/base",
      "model_module_version": "1.2.0",
      "model_name": "LayoutModel",
      "state": {}
     },
     "0a020e62261b4e8faa82c7462207673f": {
      "model_module": "@jupyter-widgets/controls",
      "model_module_version": "1.5.0",
      "model_name": "DraggableBoxModel",
      "state": {
       "child": "IPY_MODEL_49df05fb6c1344078d9b923c94716328",
       "layout": "IPY_MODEL_b7fcc1987aa54648b10c7fab8e057c11"
      }
     },
     "0ad018fb4d044d86a497c783ce6aad58": {
      "model_module": "@jupyter-widgets/controls",
      "model_module_version": "1.5.0",
      "model_name": "DropBoxModel",
      "state": {
       "child": "IPY_MODEL_50b4ca397b3d4e41851c6b505cb55f3f",
       "drag_data": {},
       "draggable": false,
       "layout": "IPY_MODEL_7d1e6c59eccb4a05a082fae0261d7cb0"
      }
     },
     "0d5cefaa787648f6b7488c0dfdd3c631": {
      "model_module": "@jupyter-widgets/controls",
      "model_module_version": "1.5.0",
      "model_name": "LabelModel",
      "state": {
       "layout": "IPY_MODEL_6ef8246c744a43d7b8748ec6072126f6",
       "style": "IPY_MODEL_45b36ed2577e4791867f7664959f7586",
       "value": "Drag me"
      }
     },
     "12d345015505449fa46bd8f0d94e3ee4": {
      "model_module": "@jupyter-widgets/controls",
      "model_module_version": "1.5.0",
      "model_name": "DraggableBoxModel",
      "state": {
       "child": "IPY_MODEL_f3d188099cf742eabf263dd83b51ea04",
       "drag_data": {
        "application/custom-data": "Custom data"
       },
       "layout": "IPY_MODEL_4a91f282e48a4cf586a010e71f42c59a"
      }
     },
     "156bcce8ca3e4af2820c6ccc38c69598": {
      "model_module": "@jupyter-widgets/base",
      "model_module_version": "1.2.0",
      "model_name": "LayoutModel",
      "state": {}
     },
     "157decce320a4abfbc0f839ff847c84b": {
      "model_module": "@jupyter-widgets/base",
      "model_module_version": "1.2.0",
      "model_name": "LayoutModel",
      "state": {
       "height": "150px",
       "width": "350px"
      }
     },
     "1ebe62dabb46439eb0c30188db71e1e4": {
      "model_module": "@jupyter-widgets/controls",
      "model_module_version": "1.5.0",
      "model_name": "ButtonStyleModel",
      "state": {}
     },
     "2131f8efe8f04acbbad119df30a4da63": {
      "model_module": "@jupyter-widgets/controls",
      "model_module_version": "1.5.0",
      "model_name": "DropBoxModel",
      "state": {
       "drag_data": {},
       "draggable": false,
       "layout": "IPY_MODEL_6c632b95452f42108cf8e61da201b420"
      }
     },
     "277fab22d4034d51bca4ac95955a47ca": {
      "model_module": "@jupyter-widgets/controls",
      "model_module_version": "1.5.0",
      "model_name": "DescriptionStyleModel",
      "state": {
       "description_width": ""
      }
     },
     "2848da3c852d42ae894fe9f318666951": {
      "model_module": "@jupyter-widgets/controls",
      "model_module_version": "1.5.0",
      "model_name": "DropBoxModel",
      "state": {
       "child": "IPY_MODEL_b8cdcfe5614d4e5ca1f0e00b9d54d536",
       "drag_data": {},
       "draggable": false,
       "layout": "IPY_MODEL_971e751af3ba44f8b542473306a43fb9"
      }
     },
     "363dde86b16d4bba82071dca3b40d031": {
      "model_module": "@jupyter-widgets/controls",
      "model_module_version": "1.5.0",
      "model_name": "DropBoxModel",
      "state": {
       "child": "IPY_MODEL_774a9548670e4a9cb3e681d2560f9be0",
       "drag_data": {},
       "draggable": false,
       "layout": "IPY_MODEL_57f15c338bcd4a54be272c1f085e39d7"
      }
     },
     "3add439ef5dc445ebd4396c4baab35c0": {
      "model_module": "@jupyter-widgets/controls",
      "model_module_version": "1.5.0",
      "model_name": "DropBoxModel",
      "state": {
       "child": "IPY_MODEL_9f5f76d3f39c4af2818e5f9431c9a7c7",
       "drag_data": {},
       "draggable": false,
       "layout": "IPY_MODEL_5974c3eb20e24e1097c6ac6d94a6c240"
      }
     },
     "3d85e8b836524c29aa9be6078be0811d": {
      "model_module": "@jupyter-widgets/controls",
      "model_module_version": "1.5.0",
      "model_name": "DescriptionStyleModel",
      "state": {
       "description_width": ""
      }
     },
     "446142d138e94459911ba0ba13770f76": {
      "model_module": "@jupyter-widgets/controls",
      "model_module_version": "1.5.0",
      "model_name": "LabelModel",
      "state": {
       "layout": "IPY_MODEL_7418cfcd726044b4be7033e11697052f",
       "style": "IPY_MODEL_94a137302229447bb595952d880ed842",
       "value": "Drag me"
      }
     },
     "45b36ed2577e4791867f7664959f7586": {
      "model_module": "@jupyter-widgets/controls",
      "model_module_version": "1.5.0",
      "model_name": "DescriptionStyleModel",
      "state": {
       "description_width": ""
      }
     },
     "4698f0e462cb432d94a004e568d734be": {
      "model_module": "@jupyter-widgets/base",
      "model_module_version": "1.2.0",
      "model_name": "LayoutModel",
      "state": {}
     },
     "49df05fb6c1344078d9b923c94716328": {
      "model_module": "@jupyter-widgets/controls",
      "model_module_version": "1.5.0",
      "model_name": "IntSliderModel",
      "state": {
       "description": "Drag me",
       "layout": "IPY_MODEL_9d8d0777f56a4fe1a167d4be92b51409",
       "style": "IPY_MODEL_968cf2206ea24a46a1ba0bb581130fe9"
      }
     },
     "4a91f282e48a4cf586a010e71f42c59a": {
      "model_module": "@jupyter-widgets/base",
      "model_module_version": "1.2.0",
      "model_name": "LayoutModel",
      "state": {}
     },
     "4e5deb0a7261414380be4376bef35800": {
      "model_module": "@jupyter-widgets/controls",
      "model_module_version": "1.5.0",
      "model_name": "ButtonStyleModel",
      "state": {}
     },
     "50b4ca397b3d4e41851c6b505cb55f3f": {
      "model_module": "@jupyter-widgets/controls",
      "model_module_version": "1.5.0",
      "model_name": "LabelModel",
      "state": {
       "layout": "IPY_MODEL_cf320cded0b24515a11415f161fd0518",
       "style": "IPY_MODEL_0716fbba051b47b7860b5dd76e544bbe",
       "value": "Drop on me"
      }
     },
     "57235b986a69419cbed1fe1b2806467f": {
      "model_module": "@jupyter-widgets/controls",
      "model_module_version": "1.5.0",
      "model_name": "DescriptionStyleModel",
      "state": {
       "description_width": ""
      }
     },
     "57f15c338bcd4a54be272c1f085e39d7": {
      "model_module": "@jupyter-widgets/base",
      "model_module_version": "1.2.0",
      "model_name": "LayoutModel",
      "state": {}
     },
     "5974c3eb20e24e1097c6ac6d94a6c240": {
      "model_module": "@jupyter-widgets/base",
      "model_module_version": "1.2.0",
      "model_name": "LayoutModel",
      "state": {
       "height": "100px",
       "width": "200px"
      }
     },
     "5d92387bdb0a41709cee6254c8bae940": {
      "model_module": "@jupyter-widgets/controls",
      "model_module_version": "1.5.0",
      "model_name": "ButtonModel",
      "state": {
       "button_style": "info",
       "description": "Drag me",
       "layout": "IPY_MODEL_a9f4d73029814666a2cb5e00c8017058",
       "style": "IPY_MODEL_90380bc08bd94194b09030762f6e7020",
       "tooltip": null
      }
     },
     "5e72720acb9243568f75134b2d738e0e": {
      "model_module": "@jupyter-widgets/controls",
      "model_module_version": "1.5.0",
      "model_name": "ButtonModel",
      "state": {
       "button_style": "danger",
       "description": "Hover on me",
       "layout": "IPY_MODEL_7fe238087a054371b6f9adbed17dd387",
       "style": "IPY_MODEL_1ebe62dabb46439eb0c30188db71e1e4",
       "tooltip": null
      }
     },
     "62edf3d65f2c46389f61f25b7db7d24d": {
      "model_module": "@jupyter-widgets/base",
      "model_module_version": "1.2.0",
      "model_name": "LayoutModel",
      "state": {}
     },
     "6896e0ce7c2c45eba979b66324e66fd4": {
      "model_module": "@jupyter-widgets/controls",
      "model_module_version": "1.5.0",
      "model_name": "DraggableBoxModel",
      "state": {
       "child": "IPY_MODEL_d398c6ff9db24f9c9e8a173b382de946",
       "layout": "IPY_MODEL_156bcce8ca3e4af2820c6ccc38c69598"
      }
     },
     "6c632b95452f42108cf8e61da201b420": {
      "model_module": "@jupyter-widgets/base",
      "model_module_version": "1.2.0",
      "model_name": "LayoutModel",
      "state": {}
     },
     "6ef8246c744a43d7b8748ec6072126f6": {
      "model_module": "@jupyter-widgets/base",
      "model_module_version": "1.2.0",
      "model_name": "LayoutModel",
      "state": {}
     },
     "6f70df9df760479f980bb776333a1353": {
      "model_module": "@jupyter-widgets/base",
      "model_module_version": "1.2.0",
      "model_name": "LayoutModel",
      "state": {}
     },
     "72672573e58141cd874bfd26d863cab4": {
      "model_module": "@jupyter-widgets/base",
      "model_module_version": "1.2.0",
      "model_name": "LayoutModel",
      "state": {}
     },
     "7418cfcd726044b4be7033e11697052f": {
      "model_module": "@jupyter-widgets/base",
      "model_module_version": "1.2.0",
      "model_name": "LayoutModel",
      "state": {}
     },
     "759d62d890d54b4897460fa3014c80ed": {
      "model_module": "@jupyter-widgets/base",
      "model_module_version": "1.2.0",
      "model_name": "LayoutModel",
      "state": {}
     },
     "774a9548670e4a9cb3e681d2560f9be0": {
      "model_module": "@jupyter-widgets/controls",
      "model_module_version": "1.5.0",
      "model_name": "LabelModel",
      "state": {
       "layout": "IPY_MODEL_04447a51f0044b098f2a2f6c989f658d",
       "style": "IPY_MODEL_e4379f5f93ed46f38389e1bc2da7ac18",
       "value": "Drop here"
      }
     },
     "7a083f9ccb81414188f66157c55baf16": {
      "model_module": "@jupyter-widgets/controls",
      "model_module_version": "1.5.0",
      "model_name": "LabelModel",
      "state": {
       "layout": "IPY_MODEL_4698f0e462cb432d94a004e568d734be",
       "style": "IPY_MODEL_f717dfd8453048d9914f9aa9cb05c0c1",
       "value": "Drop sliders below"
      }
     },
     "7b14e6af25b446a88cdfa3a765934e14": {
      "model_module": "@jupyter-widgets/base",
      "model_module_version": "1.2.0",
      "model_name": "LayoutModel",
      "state": {}
     },
     "7d1e6c59eccb4a05a082fae0261d7cb0": {
      "model_module": "@jupyter-widgets/base",
      "model_module_version": "1.2.0",
      "model_name": "LayoutModel",
      "state": {}
     },
     "7eb9203e79d34be9bc20477f9f8609db": {
      "model_module": "@jupyter-widgets/controls",
      "model_module_version": "1.5.0",
      "model_name": "DescriptionStyleModel",
      "state": {
       "description_width": ""
      }
     },
     "7f46457c203f404da6bf67ec2ee50f54": {
      "model_module": "@jupyter-widgets/controls",
      "model_module_version": "1.5.0",
      "model_name": "ButtonModel",
      "state": {
       "button_style": "warning",
       "description": "Drag me",
       "layout": "IPY_MODEL_04b342858ab1413592bd89281ca87151",
       "style": "IPY_MODEL_4e5deb0a7261414380be4376bef35800",
       "tooltip": null
      }
     },
     "7fe238087a054371b6f9adbed17dd387": {
      "model_module": "@jupyter-widgets/base",
      "model_module_version": "1.2.0",
      "model_name": "LayoutModel",
      "state": {}
     },
     "81dca26a97164a15a24b379730779cd6": {
      "model_module": "@jupyter-widgets/controls",
      "model_module_version": "1.5.0",
      "model_name": "LabelModel",
      "state": {
       "layout": "IPY_MODEL_9ef68ba7d48649519276915ef51450d6",
       "style": "IPY_MODEL_8f477e14c6314ff3a134cf4d4c80094d",
       "value": "Drag me"
      }
     },
     "82ea54d726024f239a08299ecdadb7d9": {
      "model_module": "@jupyter-widgets/base",
      "model_module_version": "1.2.0",
      "model_name": "LayoutModel",
      "state": {}
     },
     "84c568be36334d9faf53e464cf4cb8e5": {
      "model_module": "@jupyter-widgets/controls",
      "model_module_version": "1.5.0",
      "model_name": "DescriptionStyleModel",
      "state": {
       "description_width": ""
      }
     },
     "883d3c259bf941ffb7abe239b860d926": {
      "model_module": "@jupyter-widgets/controls",
      "model_module_version": "1.5.0",
      "model_name": "LabelModel",
      "state": {
       "layout": "IPY_MODEL_0798f71abfda4aaea05a819067d54ed7",
       "style": "IPY_MODEL_277fab22d4034d51bca4ac95955a47ca",
       "value": "Drop here"
      }
     },
     "8f477e14c6314ff3a134cf4d4c80094d": {
      "model_module": "@jupyter-widgets/controls",
      "model_module_version": "1.5.0",
      "model_name": "DescriptionStyleModel",
      "state": {
       "description_width": ""
      }
     },
     "90380bc08bd94194b09030762f6e7020": {
      "model_module": "@jupyter-widgets/controls",
      "model_module_version": "1.5.0",
      "model_name": "ButtonStyleModel",
      "state": {}
     },
     "935ced321a9e4a5aa8e01d00f943c329": {
      "model_module": "@jupyter-widgets/base",
      "model_module_version": "1.2.0",
      "model_name": "LayoutModel",
      "state": {}
     },
     "943463b8b12f45598a626cc8f631b24f": {
      "model_module": "@jupyter-widgets/base",
      "model_module_version": "1.2.0",
      "model_name": "LayoutModel",
      "state": {}
     },
     "94a137302229447bb595952d880ed842": {
      "model_module": "@jupyter-widgets/controls",
      "model_module_version": "1.5.0",
      "model_name": "DescriptionStyleModel",
      "state": {
       "description_width": ""
      }
     },
     "968cf2206ea24a46a1ba0bb581130fe9": {
      "model_module": "@jupyter-widgets/controls",
      "model_module_version": "1.5.0",
      "model_name": "SliderStyleModel",
      "state": {
       "description_width": ""
      }
     },
     "971e751af3ba44f8b542473306a43fb9": {
      "model_module": "@jupyter-widgets/base",
      "model_module_version": "1.2.0",
      "model_name": "LayoutModel",
      "state": {}
     },
     "99a339fdfcb840ce8bb89d3983bb850e": {
      "model_module": "@jupyter-widgets/controls",
      "model_module_version": "1.5.0",
      "model_name": "DropBoxModel",
      "state": {
       "child": "IPY_MODEL_fc544b5a2b264e83987ed50518ae3ab5",
       "drag_data": {},
       "draggable": false,
       "layout": "IPY_MODEL_f62a7e6e30aa440a9206579f82a4caa1"
      }
     },
     "9d8d0777f56a4fe1a167d4be92b51409": {
      "model_module": "@jupyter-widgets/base",
      "model_module_version": "1.2.0",
      "model_name": "LayoutModel",
      "state": {
       "width": "250px"
      }
     },
     "9ef68ba7d48649519276915ef51450d6": {
      "model_module": "@jupyter-widgets/base",
      "model_module_version": "1.2.0",
      "model_name": "LayoutModel",
      "state": {}
     },
     "9f5f76d3f39c4af2818e5f9431c9a7c7": {
      "model_module": "@jupyter-widgets/controls",
      "model_module_version": "1.5.0",
      "model_name": "LabelModel",
      "state": {
       "layout": "IPY_MODEL_935ced321a9e4a5aa8e01d00f943c329",
       "style": "IPY_MODEL_57235b986a69419cbed1fe1b2806467f",
       "value": "Drop here!"
      }
     },
     "a464a8dcb26f4f35b8f2fc2f7b1bc72b": {
      "model_module": "@jupyter-widgets/controls",
      "model_module_version": "1.5.0",
      "model_name": "DraggableBoxModel",
      "state": {
       "child": "IPY_MODEL_81dca26a97164a15a24b379730779cd6",
       "layout": "IPY_MODEL_62edf3d65f2c46389f61f25b7db7d24d"
      }
     },
     "a9f4d73029814666a2cb5e00c8017058": {
      "model_module": "@jupyter-widgets/base",
      "model_module_version": "1.2.0",
      "model_name": "LayoutModel",
      "state": {}
     },
     "ae4ca7e69fe248599a0062a9ee49b8a5": {
      "model_module": "@jupyter-widgets/base",
      "model_module_version": "1.2.0",
      "model_name": "LayoutModel",
      "state": {}
     },
     "b4f5771dd9c444438f2c3ce6eb810014": {
      "model_module": "@jupyter-widgets/base",
      "model_module_version": "1.2.0",
      "model_name": "LayoutModel",
      "state": {}
     },
     "b7fcc1987aa54648b10c7fab8e057c11": {
      "model_module": "@jupyter-widgets/base",
      "model_module_version": "1.2.0",
      "model_name": "LayoutModel",
      "state": {}
     },
     "b8cdcfe5614d4e5ca1f0e00b9d54d536": {
      "model_module": "@jupyter-widgets/controls",
      "model_module_version": "1.5.0",
      "model_name": "VBoxModel",
      "state": {
       "children": [
        "IPY_MODEL_7a083f9ccb81414188f66157c55baf16"
       ],
       "layout": "IPY_MODEL_157decce320a4abfbc0f839ff847c84b"
      }
     },
     "c1141ea902984b149e849f758115294d": {
      "model_module": "@jupyter-widgets/controls",
      "model_module_version": "1.5.0",
      "model_name": "DropBoxModel",
      "state": {
       "child": "IPY_MODEL_5e72720acb9243568f75134b2d738e0e",
       "drag_data": {},
       "draggable": false,
       "layout": "IPY_MODEL_b4f5771dd9c444438f2c3ce6eb810014"
      }
     },
     "cf06f23b238246a5bca43e9efbd3969f": {
      "model_module": "@jupyter-widgets/controls",
      "model_module_version": "1.5.0",
      "model_name": "DraggableBoxModel",
      "state": {
       "child": "IPY_MODEL_446142d138e94459911ba0ba13770f76",
       "layout": "IPY_MODEL_943463b8b12f45598a626cc8f631b24f"
      }
     },
     "cf320cded0b24515a11415f161fd0518": {
      "model_module": "@jupyter-widgets/base",
      "model_module_version": "1.2.0",
      "model_name": "LayoutModel",
      "state": {}
     },
     "d398c6ff9db24f9c9e8a173b382de946": {
      "model_module": "@jupyter-widgets/controls",
      "model_module_version": "1.5.0",
      "model_name": "LabelModel",
      "state": {
       "layout": "IPY_MODEL_6f70df9df760479f980bb776333a1353",
       "style": "IPY_MODEL_3d85e8b836524c29aa9be6078be0811d",
       "value": "Hello Drag"
      }
     },
     "e4379f5f93ed46f38389e1bc2da7ac18": {
      "model_module": "@jupyter-widgets/controls",
      "model_module_version": "1.5.0",
      "model_name": "DescriptionStyleModel",
      "state": {
       "description_width": ""
      }
     },
     "e99e419d436143d49bd77ccce8e5f0b2": {
      "model_module": "@jupyter-widgets/controls",
      "model_module_version": "1.5.0",
      "model_name": "DraggableBoxModel",
      "state": {
       "child": "IPY_MODEL_7f46457c203f404da6bf67ec2ee50f54",
       "layout": "IPY_MODEL_72672573e58141cd874bfd26d863cab4"
      }
     },
     "edf71ec1941b42689dd9fce2a23e5b50": {
      "model_module": "@jupyter-widgets/controls",
      "model_module_version": "1.5.0",
      "model_name": "TextareaModel",
      "state": {
       "layout": "IPY_MODEL_ae4ca7e69fe248599a0062a9ee49b8a5",
       "style": "IPY_MODEL_7eb9203e79d34be9bc20477f9f8609db"
      }
     },
     "f3d188099cf742eabf263dd83b51ea04": {
      "model_module": "@jupyter-widgets/controls",
      "model_module_version": "1.5.0",
      "model_name": "LabelModel",
      "state": {
       "layout": "IPY_MODEL_7b14e6af25b446a88cdfa3a765934e14",
       "style": "IPY_MODEL_84c568be36334d9faf53e464cf4cb8e5",
       "value": "Drag me"
      }
     },
     "f62a7e6e30aa440a9206579f82a4caa1": {
      "model_module": "@jupyter-widgets/base",
      "model_module_version": "1.2.0",
      "model_name": "LayoutModel",
      "state": {
       "height": "100px",
       "width": "200px"
      }
     },
     "f717dfd8453048d9914f9aa9cb05c0c1": {
      "model_module": "@jupyter-widgets/controls",
      "model_module_version": "1.5.0",
      "model_name": "DescriptionStyleModel",
      "state": {
       "description_width": ""
      }
     },
     "fc544b5a2b264e83987ed50518ae3ab5": {
      "model_module": "@jupyter-widgets/controls",
      "model_module_version": "1.5.0",
      "model_name": "VBoxModel",
      "state": {
       "children": [
        "IPY_MODEL_883d3c259bf941ffb7abe239b860d926"
       ],
       "layout": "IPY_MODEL_03dcb955c41746a7bd854c2a058157ec"
      }
     }
    },
    "version_major": 2,
    "version_minor": 0
   }
  }
 },
 "nbformat": 4,
 "nbformat_minor": 4
}
