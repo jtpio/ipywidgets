{
 "cells": [
  {
   "cell_type": "markdown",
   "metadata": {},
   "source": [
    "## Draggable Label"
   ]
  },
  {
   "cell_type": "markdown",
   "metadata": {},
   "source": [
    "`DraggableLabel` is a label that can be dragged and dropped to other fields."
   ]
  },
  {
   "cell_type": "code",
   "execution_count": 11,
   "metadata": {},
   "outputs": [],
   "source": [
    "from ipywidgets import Label, DraggableBox, DropBox, Textarea, VBox"
   ]
  },
  {
   "cell_type": "code",
   "execution_count": 2,
   "metadata": {},
   "outputs": [],
   "source": [
    "def set_drag_data(box):\n",
    "    box.drag_data['text/plain'] = box.children[0].value\n",
    "\n",
    "def DraggableLabel(value, draggable=True):\n",
    "    box = DraggableBox(Label(value))\n",
    "    box.draggable = draggable\n",
    "    return box"
   ]
  },
  {
   "cell_type": "code",
   "execution_count": 3,
   "metadata": {},
   "outputs": [
    {
     "data": {
      "application/vnd.jupyter.widget-view+json": {
       "model_id": "460d334fd7214373bf6512e94b48d350",
       "version_major": 2,
       "version_minor": 0
      },
      "text/plain": [
       "DraggableBox(child=Label(value='Hello Drag'))"
      ]
     },
     "execution_count": 3,
     "metadata": {},
     "output_type": "execute_result"
    }
   ],
   "source": [
    "DraggableLabel(\"Hello Drag\")"
   ]
  },
  {
   "cell_type": "markdown",
   "metadata": {},
   "source": [
    "You can drag this label anywhere (could be your shell etc.), but also to a text area:"
   ]
  },
  {
   "cell_type": "code",
   "execution_count": 4,
   "metadata": {},
   "outputs": [
    {
     "data": {
      "application/vnd.jupyter.widget-view+json": {
       "model_id": "29b71c8d69c6441e942d03cd4da671e1",
       "version_major": 2,
       "version_minor": 0
      },
      "text/plain": [
       "Textarea(value='')"
      ]
     },
     "execution_count": 4,
     "metadata": {},
     "output_type": "execute_result"
    }
   ],
   "source": [
    "Textarea()"
   ]
  },
  {
   "cell_type": "markdown",
   "metadata": {},
   "source": [
    "## `on_drop` handler"
   ]
  },
  {
   "cell_type": "markdown",
   "metadata": {},
   "source": [
    "`DraggableLabel` can also become the drop zone (you can drop other stuff on it), if you implement the `on_drop` handler."
   ]
  },
  {
   "cell_type": "code",
   "execution_count": 5,
   "metadata": {},
   "outputs": [
    {
     "data": {
      "application/vnd.jupyter.widget-view+json": {
       "model_id": "d3aac4a1f8b846db8e27495d904682b5",
       "version_major": 2,
       "version_minor": 0
      },
      "text/plain": [
       "DraggableBox(child=Label(value='Drag me'))"
      ]
     },
     "execution_count": 5,
     "metadata": {},
     "output_type": "execute_result"
    }
   ],
   "source": [
    "l1 = DraggableLabel(\"Drag me\")\n",
    "l1"
   ]
  },
  {
   "cell_type": "markdown",
   "metadata": {},
   "source": [
    "Now, drag this label on the label below."
   ]
  },
  {
   "cell_type": "code",
   "execution_count": 6,
   "metadata": {},
   "outputs": [
    {
     "data": {
      "application/vnd.jupyter.widget-view+json": {
       "model_id": "c0082b4380d743beabd1397071ec41f6",
       "version_major": 2,
       "version_minor": 0
      },
      "text/plain": [
       "DropBox(child=Label(value='Drop on me'))"
      ]
     },
     "execution_count": 6,
     "metadata": {},
     "output_type": "execute_result"
    },
    {
     "name": "stdout",
     "output_type": "stream",
     "text": [
      "{'text/plain': 'Drag me', 'application/vnd.jupyter.widget-view+json': 'd3aac4a1f8b846db8e27495d904682b5', 'widget': DraggableBox(child=Label(value='Drag me'))}\n"
     ]
    }
   ],
   "source": [
    "l2 = DropBox(Label(\"Drop on me\"))\n",
    "def on_drop_handler(widget, data):\n",
    "    \"\"\"\"Arguments:\n",
    "    \n",
    "    widget : widget class\n",
    "        widget on which something was dropped\n",
    "        \n",
    "    data : dict\n",
    "        extra data sent from the dragged widget\"\"\"\n",
    "    print(data)\n",
    "    text = data['text/plain']\n",
    "    widget.child.value = \"congrats, you dropped '{}'\".format(text)\n",
    "\n",
    "l2.on_drop(on_drop_handler)\n",
    "l2"
   ]
  },
  {
   "cell_type": "markdown",
   "metadata": {},
   "source": [
    "**Note** : You can also drop other stuff (like files, images, links, selections, etc). Try it out!"
   ]
  },
  {
   "cell_type": "markdown",
   "metadata": {},
   "source": [
    "## Changing any widget into a drop zone with arbitrary drop operations"
   ]
  },
  {
   "cell_type": "markdown",
   "metadata": {},
   "source": [
    "If you have more specific needs for the drop behaviour you can also use DropBox widgets, which implements `on_drop` handlers."
   ]
  },
  {
   "cell_type": "markdown",
   "metadata": {},
   "source": [
    "This DropBox will replace elements with text of the dropped element (works also for stuff which is not widget):"
   ]
  },
  {
   "cell_type": "code",
   "execution_count": 7,
   "metadata": {},
   "outputs": [
    {
     "data": {
      "application/vnd.jupyter.widget-view+json": {
       "model_id": "ef9e91fbcd2c45089f8897d72af12845",
       "version_major": 2,
       "version_minor": 0
      },
      "text/plain": [
       "DraggableBox(child=Label(value='Drag me'))"
      ]
     },
     "execution_count": 7,
     "metadata": {},
     "output_type": "execute_result"
    }
   ],
   "source": [
    "from ipywidgets import DropBox, Layout, Button\n",
    "\n",
    "label = DraggableLabel(\"Drag me\", draggable=True)\n",
    "label"
   ]
  },
  {
   "cell_type": "markdown",
   "metadata": {},
   "source": [
    "or **Select and drag me!**"
   ]
  },
  {
   "cell_type": "code",
   "execution_count": 8,
   "metadata": {},
   "outputs": [
    {
     "data": {
      "application/vnd.jupyter.widget-view+json": {
       "model_id": "58d2f51d1b29455fabe519278478f69f",
       "version_major": 2,
       "version_minor": 0
      },
      "text/plain": [
       "DropBox(child=Label(value='Drop here!'), layout=Layout(height='100px', width='200px'))"
      ]
     },
     "execution_count": 8,
     "metadata": {},
     "output_type": "execute_result"
    }
   ],
   "source": [
    "box = DropBox(Label(\"Drop here!\"),\n",
    "              layout=Layout(width='200px', height='100px'))\n",
    "def on_drop(widget, data):\n",
    "    text = data['text/plain']\n",
    "    widget.child = Button(description=text.upper())\n",
    "\n",
    "box.on_drop(on_drop)\n",
    "box"
   ]
  },
  {
   "cell_type": "markdown",
   "metadata": {},
   "source": [
    "## Adding widgets to container with a handler"
   ]
  },
  {
   "cell_type": "markdown",
   "metadata": {},
   "source": [
    "You can also reproduce the Box example (adding elements to Box container) using `DropBox` with a custom handler:"
   ]
  },
  {
   "cell_type": "code",
   "execution_count": 12,
   "metadata": {},
   "outputs": [
    {
     "data": {
      "application/vnd.jupyter.widget-view+json": {
       "model_id": "67a49e632f3a48ecb0588ff21910b818",
       "version_major": 2,
       "version_minor": 0
      },
      "text/plain": [
       "DraggableBox(child=Label(value='Drag me'))"
      ]
     },
     "execution_count": 12,
     "metadata": {},
     "output_type": "execute_result"
    }
   ],
   "source": [
    "from ipywidgets import DropBox, Layout, Label\n",
    "\n",
    "label = DraggableLabel(\"Drag me\", draggable=True)\n",
    "label"
   ]
  },
  {
   "cell_type": "code",
   "execution_count": 13,
   "metadata": {},
   "outputs": [
    {
     "data": {
      "application/vnd.jupyter.widget-view+json": {
       "model_id": "29474f46942d4ecb85b97ca1ee3530e4",
       "version_major": 2,
       "version_minor": 0
      },
      "text/plain": [
       "DropBox(child=VBox(children=(Label(value='Drop here'),)), layout=Layout(height='100px', width='200px'))"
      ]
     },
     "execution_count": 13,
     "metadata": {},
     "output_type": "execute_result"
    }
   ],
   "source": [
    "box = DropBox(VBox([Label('Drop here')]), \n",
    "              layout=Layout(width='200px', height='100px'))\n",
    "\n",
    "def on_drop(widget, data):\n",
    "    source = data['widget']\n",
    "    widget.child.children += (source, )\n",
    "\n",
    "box.on_drop(on_drop)\n",
    "box"
   ]
  },
  {
   "cell_type": "markdown",
   "metadata": {},
   "source": [
    "**Explanation**: Label widget sets data on the drop event of type `application/x-widget` that contains the widget id of the dragged widget."
   ]
  },
  {
   "cell_type": "markdown",
   "metadata": {},
   "source": [
    "## Setting custom data on the drop event"
   ]
  },
  {
   "cell_type": "markdown",
   "metadata": {},
   "source": [
    "You can also set custom data on `DraggableLabel` that can be retreived and used in `on_drop` event."
   ]
  },
  {
   "cell_type": "code",
   "execution_count": 14,
   "metadata": {
    "scrolled": true
   },
   "outputs": [
    {
     "data": {
      "application/vnd.jupyter.widget-view+json": {
       "model_id": "bb57d5bec390451d8766fbfb7d1f983f",
       "version_major": 2,
       "version_minor": 0
      },
      "text/plain": [
       "DraggableBox(child=Label(value='Drag me'), drag_data={'application/custom-data': 'Custom data'})"
      ]
     },
     "execution_count": 14,
     "metadata": {},
     "output_type": "execute_result"
    }
   ],
   "source": [
    "l = DraggableLabel(\"Drag me\", draggable=True)\n",
    "l.drag_data = {'application/custom-data' : 'Custom data'}\n",
    "l"
   ]
  },
  {
   "cell_type": "code",
   "execution_count": 15,
   "metadata": {},
   "outputs": [
    {
     "data": {
      "application/vnd.jupyter.widget-view+json": {
       "model_id": "c7e766365bf54ac4966d4f03fca04258",
       "version_major": 2,
       "version_minor": 0
      },
      "text/plain": [
       "DropBox(child=Label(value='Drop here'))"
      ]
     },
     "execution_count": 15,
     "metadata": {},
     "output_type": "execute_result"
    }
   ],
   "source": [
    "l2 = DropBox(Label(\"Drop here\"))\n",
    "\n",
    "def on_drop_handler(widget, data):\n",
    "    \"\"\"\"Arguments:\n",
    "    \n",
    "    widget : widget class\n",
    "        widget on which something was dropped\n",
    "        \n",
    "    data : dict\n",
    "        extra data sent from the dragged widget\"\"\"\n",
    "    \n",
    "    text = data['text/plain']\n",
    "    widget_id = data['application/vnd.jupyter.widget-view+json']\n",
    "    custom_data = data['application/custom-data']\n",
    "    widget.child.value = (\"you dropped widget ID '{}...' \"\n",
    "                    \"with text '{}' and custom data '{}'\"\n",
    "                   ).format(widget_id[:5], text,  custom_data)\n",
    "\n",
    "l2.on_drop(on_drop_handler)\n",
    "l2"
   ]
  },
  {
   "cell_type": "markdown",
   "metadata": {},
   "source": [
    "## Making any widget draggable"
   ]
  },
  {
   "cell_type": "markdown",
   "metadata": {},
   "source": [
    "`DraggableBox` can be used to wrap any widget so that it can be dragged and dropped."
   ]
  },
  {
   "cell_type": "code",
   "execution_count": 16,
   "metadata": {},
   "outputs": [],
   "source": [
    "from ipywidgets import DraggableBox, Button, VBox, Layout, IntSlider, Label"
   ]
  },
  {
   "cell_type": "code",
   "execution_count": 17,
   "metadata": {},
   "outputs": [
    {
     "data": {
      "application/vnd.jupyter.widget-view+json": {
       "model_id": "246675c70be544cf9202e3cdb804f99b",
       "version_major": 2,
       "version_minor": 0
      },
      "text/plain": [
       "DraggableBox(child=IntSlider(value=0, description='Drag me', layout=Layout(width='250px')))"
      ]
     },
     "execution_count": 17,
     "metadata": {},
     "output_type": "execute_result"
    }
   ],
   "source": [
    "slider = IntSlider(layout=Layout(width='250px'), description='Drag me')\n",
    "DraggableBox(slider, draggable=True)"
   ]
  },
  {
   "cell_type": "code",
   "execution_count": 18,
   "metadata": {},
   "outputs": [],
   "source": [
    "def attach_to_box(box, widget):\n",
    "    box.children += (widget, )"
   ]
  },
  {
   "cell_type": "code",
   "execution_count": 19,
   "metadata": {},
   "outputs": [
    {
     "data": {
      "application/vnd.jupyter.widget-view+json": {
       "model_id": "62af6c1abfa6492c8e6351b4b0ad7f25",
       "version_major": 2,
       "version_minor": 0
      },
      "text/plain": [
       "DropBox(child=VBox(children=(Label(value='Drop sliders below'),), layout=Layout(height='150px', width='350px')…"
      ]
     },
     "execution_count": 19,
     "metadata": {},
     "output_type": "execute_result"
    }
   ],
   "source": [
    "vdropbox = DropBox(VBox([Label('Drop sliders below')], layout=Layout(width='350px', height='150px')))\n",
    "vdropbox.on_drop(lambda *args: attach_to_box(vdropbox.child, args[1]['widget']))\n",
    "vdropbox"
   ]
  },
  {
   "cell_type": "markdown",
   "metadata": {},
   "source": [
    "## Draggable data columns"
   ]
  },
  {
   "cell_type": "markdown",
   "metadata": {},
   "source": [
    "This implements a bit more complex example."
   ]
  },
  {
   "cell_type": "code",
   "execution_count": 20,
   "metadata": {},
   "outputs": [],
   "source": [
    "import bqplot.pyplot as plt\n",
    "from ipywidgets import Label, GridspecLayout, DropBox, Layout\n",
    "import json"
   ]
  },
  {
   "cell_type": "code",
   "execution_count": 21,
   "metadata": {},
   "outputs": [],
   "source": [
    "def create_table(data):\n",
    "    n_cols = len(data)\n",
    "    n_rows = max(len(column) for column in data.values())\n",
    "    grid = GridspecLayout(n_rows+1, n_cols)\n",
    "    columnames = list(data.keys())\n",
    "    for i in range(n_cols):\n",
    "        column = columnames[i]\n",
    "        data_json = json.dumps(data[column])\n",
    "        grid[0, i] = DraggableLabel(columnames[i], draggable=True)\n",
    "        grid[0, i].draggable = True\n",
    "        grid[0, i].drag_data = {'data/app' : data_json}\n",
    "        for j in range(n_rows):\n",
    "            grid[j+1, i] = DraggableLabel(str(data[column][j]), draggable=True)\n",
    "            grid[j+1, i].drag_data = {'data/app' : data_json}\n",
    "    return grid"
   ]
  },
  {
   "cell_type": "code",
   "execution_count": 22,
   "metadata": {},
   "outputs": [],
   "source": [
    "box = DropBox(Label(\"Drag data from the table and drop it here.\"), layout=Layout(height='500px', width='800px'))\n",
    "def box_ondrop(widget, data):\n",
    "    fig = plt.figure()\n",
    "    y = json.loads(data['data/app'])\n",
    "    plt.plot(y)\n",
    "    widget.child = fig\n",
    "box.on_drop(box_ondrop)"
   ]
  },
  {
   "cell_type": "code",
   "execution_count": 23,
   "metadata": {},
   "outputs": [
    {
     "data": {
      "application/vnd.jupyter.widget-view+json": {
       "model_id": "44b808f2cc8b4e10867545279e833d68",
       "version_major": 2,
       "version_minor": 0
      },
      "text/plain": [
       "GridspecLayout(children=(DraggableBox(child=Label(value='col1'), drag_data={'data/app': '[4, 2, 1]'}, layout=L…"
      ]
     },
     "execution_count": 23,
     "metadata": {},
     "output_type": "execute_result"
    }
   ],
   "source": [
    "plot_data = {\n",
    "    'col1': [ 4, 2,  1],\n",
    "    'col2': [ 1, 3,  4],\n",
    "    'col3': [-1, 2, -3]\n",
    "}\n",
    "create_table(plot_data)"
   ]
  },
  {
   "cell_type": "markdown",
   "metadata": {},
   "source": [
    "You can drag the data by the labels or values (the whole column will be dragged)."
   ]
  },
  {
   "cell_type": "code",
   "execution_count": 25,
   "metadata": {},
   "outputs": [
    {
     "data": {
      "application/vnd.jupyter.widget-view+json": {
       "model_id": "f94865838f714367877f60b8ab699426",
       "version_major": 2,
       "version_minor": 0
      },
      "text/plain": [
       "DropBox(child=Figure(axes=[Axis(scale=LinearScale(), side='bottom'), Axis(orientation='vertical', scale=Linear…"
      ]
     },
     "execution_count": 25,
     "metadata": {},
     "output_type": "execute_result"
    }
   ],
   "source": [
    "box"
   ]
  },
  {
   "cell_type": "markdown",
   "metadata": {},
   "source": [
    "## Plot builder"
   ]
  },
  {
   "cell_type": "markdown",
   "metadata": {},
   "source": [
    "Here is another example allowing to build plots from a list of labels."
   ]
  },
  {
   "cell_type": "code",
   "execution_count": 26,
   "metadata": {},
   "outputs": [],
   "source": [
    "from ipywidgets import SelectMultiple, Layout, DraggableBox, DropBox, HBox\n",
    "import bqplot as bq\n",
    "\n",
    "select_list = SelectMultiple(\n",
    "    options=['Apples', 'Oranges', 'Pears'],\n",
    "    value=['Oranges'],\n",
    "    description='Fruits',\n",
    "    disabled=False\n",
    ")\n",
    "select_box = DraggableBox(select_list, draggable=True)\n",
    "\n",
    "fruits = {'Apples' : 5,\n",
    "          'Oranges' : 1,\n",
    "          'Pears': 3}\n",
    "\n",
    "\n",
    "fig = bq.Figure(marks=[], fig_margin = dict(left=50, right=0, top=0, bottom=70))\n",
    "fig.layout.height='300px'\n",
    "fig.layout.width='300px'\n",
    "fig_box = DropBox(fig)\n",
    "\n",
    "fig2 = bq.Figure(marks=[], fig_margin = dict(left=50, right=0, top=0, bottom=70))\n",
    "fig2.layout.height='300px'\n",
    "fig2.layout.width='300px'\n",
    "fig2_box = DropBox(fig2)\n",
    "\n",
    "def on_fig_drop(widget, data):\n",
    "    \n",
    "    # get the figure widget\n",
    "    fig = widget.child\n",
    "    #get the selection widget\n",
    "    selection_widget = data['widget'].child\n",
    "    \n",
    "    # get the selected fruits and prices\n",
    "    selected = selection_widget.value\n",
    "    prices = [fruits[f] for f in selected]\n",
    "    \n",
    "    sc_x = bq.OrdinalScale()\n",
    "    sc_y = bq.LinearScale()\n",
    "\n",
    "    ax_x = bq.Axis(scale=sc_x)\n",
    "    ax_y = bq.Axis(scale=sc_y, orientation='vertical')\n",
    "    bars = bq.Bars(x=selected, y=prices, scales={'x' : sc_x, 'y' : sc_y })\n",
    "    fig.axes = [ax_x, ax_y]\n",
    "    fig.marks = [bars]\n",
    "\n",
    "fig_box.on_drop(on_fig_drop)\n",
    "fig2_box.on_drop(on_fig_drop)"
   ]
  },
  {
   "cell_type": "markdown",
   "metadata": {},
   "source": [
    "Select and drag fruits from the list to the boxes on the right. It's better to drag the selection using the \"Fruits\" label, due to a smalll glitch in the selection widget."
   ]
  },
  {
   "cell_type": "code",
   "execution_count": 27,
   "metadata": {},
   "outputs": [
    {
     "data": {
      "application/vnd.jupyter.widget-view+json": {
       "model_id": "b4a88100b0004784b18acecaedf02e3c",
       "version_major": 2,
       "version_minor": 0
      },
      "text/plain": [
       "HBox(children=(DraggableBox(child=SelectMultiple(description='Fruits', index=(1,), options=('Apples', 'Oranges…"
      ]
     },
     "execution_count": 27,
     "metadata": {},
     "output_type": "execute_result"
    }
   ],
   "source": [
    "HBox([select_box,\n",
    "      fig_box,\n",
    "      fig2_box])"
   ]
  }
 ],
 "metadata": {
  "kernelspec": {
   "display_name": "Python 3",
   "language": "python",
   "name": "python3"
  },
  "language_info": {
   "codemirror_mode": {
    "name": "ipython",
    "version": 3
   },
   "file_extension": ".py",
   "mimetype": "text/x-python",
   "name": "python",
   "nbconvert_exporter": "python",
   "pygments_lexer": "ipython3",
   "version": "3.7.6"
  }
 },
 "nbformat": 4,
 "nbformat_minor": 2
}
